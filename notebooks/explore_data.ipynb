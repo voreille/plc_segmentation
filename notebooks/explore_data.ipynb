{
 "cells": [
  {
   "cell_type": "code",
   "execution_count": null,
   "metadata": {},
   "outputs": [],
   "source": [
    "import os\n",
    "\n",
    "import h5py\n",
    "import pandas as pd\n",
    "import matplotlib.pyplot as plt\n",
    "import numpy as np\n",
    "\n",
    "from src.data.tf_data_hdf5 import get_tf_data \n",
    "from src.data.utils import get_lung_volume, get_split\n",
    "\n",
    "\n",
    "os.environ[\"CUDA_VISIBLE_DEVICES\"] = \"3\""
   ]
  },
  {
   "cell_type": "code",
   "execution_count": null,
   "metadata": {},
   "outputs": [],
   "source": [
    "clinical_df = pd.read_csv(\"/home/valentin/python_wkspce/plc_segmentation/data/clinical_info_with_lung_info.csv\").set_index(\"patient_id\")"
   ]
  },
  {
   "cell_type": "code",
   "execution_count": null,
   "metadata": {},
   "outputs": [],
   "source": [
    "file = h5py.File(\n",
    "    \"/home/valentin/python_wkspce/plc_segmentation/data/processed/hdf5_2d_pet_standardized_lung_slices/data.hdf5\",\n",
    "    \"r\")"
   ]
  },
  {
   "cell_type": "code",
   "execution_count": null,
   "metadata": {},
   "outputs": [],
   "source": [
    "patient_list = list(file.keys())\n",
    "patient_list.remove(\"PatientLC_63\")  # Just one lung\n",
    "patient_list.remove(\"PatientLC_72\")  # the same as 70"
   ]
  },
  {
   "cell_type": "code",
   "execution_count": null,
   "metadata": {},
   "outputs": [],
   "source": [
    "ids_train, ids_val, ids_test = get_split(0)"
   ]
  },
  {
   "cell_type": "code",
   "execution_count": null,
   "metadata": {},
   "outputs": [],
   "source": [
    "np.sum(clinical_df.loc[ids_train, \"plc_status\"].values)"
   ]
  },
  {
   "cell_type": "code",
   "execution_count": null,
   "metadata": {},
   "outputs": [],
   "source": [
    "len(ids_train)"
   ]
  },
  {
   "cell_type": "code",
   "execution_count": null,
   "metadata": {},
   "outputs": [],
   "source": [
    "np.sum(clinical_df.loc[ids_train, \"plc_status\"].values)"
   ]
  },
  {
   "cell_type": "code",
   "execution_count": null,
   "metadata": {},
   "outputs": [],
   "source": [
    "ds_train = get_tf_data(file,\n",
    "                       clinical_df,\n",
    "                       patient_list=ids_train,\n",
    "                       shuffle=True,\n",
    "                       oversample=True,\n",
    "                       center_on=\"special\",\n",
    "                       random_angle=None,\n",
    "                       random_shift=None,\n",
    "                       return_patient_name=True).batch(16)\n"
   ]
  },
  {
   "cell_type": "code",
   "execution_count": null,
   "metadata": {},
   "outputs": [],
   "source": [
    "images, masks, patient_ids = next(ds_train.as_numpy_iterator())"
   ]
  },
  {
   "cell_type": "code",
   "execution_count": null,
   "metadata": {},
   "outputs": [],
   "source": [
    "np.std(images[1,:,:,1])"
   ]
  },
  {
   "cell_type": "code",
   "execution_count": null,
   "metadata": {},
   "outputs": [],
   "source": [
    "plt.imshow(images[10, :, :, 0])\n",
    "plt.colorbar()"
   ]
  },
  {
   "cell_type": "code",
   "execution_count": null,
   "metadata": {},
   "outputs": [],
   "source": [
    "n_plc_neg = 0\n",
    "n_plc_pos = 0\n",
    "for images, segs, patient_id in ds_train.take(20).as_numpy_iterator():\n",
    "    bs = images.shape[0]\n",
    "    patient_id = [p.decode(\"utf-8\") for p in patient_id]\n",
    "    n_plc_pos += np.sum(clinical_df.loc[patient_id, \"plc_status\"].values == 1)\n",
    "    n_plc_neg += np.sum(clinical_df.loc[patient_id, \"plc_status\"].values == 0)\n"
   ]
  },
  {
   "cell_type": "code",
   "execution_count": null,
   "metadata": {},
   "outputs": [],
   "source": [
    "n_plc_pos"
   ]
  },
  {
   "cell_type": "code",
   "execution_count": null,
   "metadata": {},
   "outputs": [],
   "source": [
    "n_plc_neg"
   ]
  },
  {
   "cell_type": "code",
   "execution_count": null,
   "metadata": {},
   "outputs": [],
   "source": [
    "plt.imshow(images[3,:,:,:])"
   ]
  },
  {
   "cell_type": "code",
   "execution_count": null,
   "metadata": {},
   "outputs": [],
   "source": [
    "image, mask = get_lung_volume(\"PatientLC_1\", file)"
   ]
  },
  {
   "cell_type": "code",
   "execution_count": null,
   "metadata": {},
   "outputs": [],
   "source": [
    "plt.imshow(image[:, :, -1, 0])"
   ]
  },
  {
   "cell_type": "code",
   "execution_count": null,
   "metadata": {},
   "outputs": [],
   "source": [
    "ds = get_tf_data(\n",
    "    file,\n",
    "    clinical_df=clinical_df,\n",
    "    # return_patient_name=True,\n",
    "    patient_list=patient_list,\n",
    "    return_complete_gtvl=True,\n",
    "    random_slice=True,\n",
    "    center_on=\"nothing\",\n",
    "    oversample=True,\n",
    ").shuffle(buffer_size=10).repeat().take(1000).as_numpy_iterator()"
   ]
  },
  {
   "cell_type": "code",
   "execution_count": null,
   "metadata": {},
   "outputs": [],
   "source": [
    "n_background = 0\n",
    "n_gtvl = 0\n",
    "for image, seg in ds:\n",
    "    gtvl = seg[:, :, 1]\n",
    "    n_gtvl += np.sum(gtvl[seg[:,:,3]!=0])\n",
    "    n_background += np.sum((1-gtvl)[seg[:,:,3]!=0])\n",
    "ratio_gtvl = n_gtvl / (n_background +  n_gtvl)\n",
    "ratio_background = n_background / (n_background + n_gtvl)"
   ]
  },
  {
   "cell_type": "code",
   "execution_count": null,
   "metadata": {},
   "outputs": [],
   "source": [
    "print(\n",
    "    f\"The class weights of gtvl and backgroun are {1/ratio_background/2}, {1/ratio_gtvl/2},  respectively \"\n",
    ")\n",
    "print(\n",
    "    f\"The alpha for gtvl and background are {1-ratio_gtvl}, {1-ratio_background}, respectively \"\n",
    ")"
   ]
  },
  {
   "cell_type": "code",
   "execution_count": null,
   "metadata": {},
   "outputs": [],
   "source": [
    "ratio_gtvl"
   ]
  },
  {
   "cell_type": "code",
   "execution_count": null,
   "metadata": {},
   "outputs": [],
   "source": [
    "ds = get_tf_data(\n",
    "    file,\n",
    "    clinical_df=clinical_df,\n",
    "    patient_list=[\"Case_1\", \"PatientLC_1\", \"PatientLC_2\"],\n",
    "    return_patient_name=True,\n",
    "    return_complete_gtvl=True,\n",
    "    random_slice=False,\n",
    "    center_on=\"GTV L\",\n",
    ").shuffle(buffer_size=10).as_numpy_iterator()\n"
   ]
  },
  {
   "cell_type": "code",
   "execution_count": null,
   "metadata": {},
   "outputs": [],
   "source": [
    "clinical_df.loc[\"PatientLC_2\",:]"
   ]
  },
  {
   "cell_type": "code",
   "execution_count": null,
   "metadata": {},
   "outputs": [],
   "source": [
    "image, mask, patient_id = next(ds)\n",
    "patient_id"
   ]
  },
  {
   "cell_type": "code",
   "execution_count": null,
   "metadata": {},
   "outputs": [],
   "source": [
    "plt.imshow(mask[:,:,1])"
   ]
  },
  {
   "cell_type": "code",
   "execution_count": null,
   "metadata": {},
   "outputs": [],
   "source": [
    "image, mask = _parse_image(\n",
    "    \"PatientLC_2\",\n",
    "    clinical_df=clinical_df,\n",
    "    file=file,\n",
    "    random_slice=False,\n",
    "    random_shift=False,\n",
    "    center_on=\"GTV L\",\n",
    "    output_shape_image=(256, 256),\n",
    "    return_complete_gtvl=True,\n",
    ")"
   ]
  },
  {
   "cell_type": "code",
   "execution_count": null,
   "metadata": {},
   "outputs": [],
   "source": [
    "plt.imshow(mask[:, :, 4])\n"
   ]
  },
  {
   "cell_type": "code",
   "execution_count": null,
   "metadata": {},
   "outputs": [],
   "source": []
  }
 ],
 "metadata": {
  "interpreter": {
   "hash": "26794336849f69f1a455c7b9076cea9e2673f8b3db6968d6e62389984b0c1cbc"
  },
  "kernelspec": {
   "display_name": "Python 3.6.9 64-bit ('env': virtualenv)",
   "language": "python",
   "name": "python3"
  },
  "language_info": {
   "codemirror_mode": {
    "name": "ipython",
    "version": 3
   },
   "file_extension": ".py",
   "mimetype": "text/x-python",
   "name": "python",
   "nbconvert_exporter": "python",
   "pygments_lexer": "ipython3",
   "version": "3.6.9"
  },
  "orig_nbformat": 4
 },
 "nbformat": 4,
 "nbformat_minor": 2
}
