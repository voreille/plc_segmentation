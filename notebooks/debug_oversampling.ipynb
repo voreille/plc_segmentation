{
 "cells": [
  {
   "cell_type": "code",
   "execution_count": null,
   "metadata": {},
   "outputs": [],
   "source": [
    "import pandas as pd\n",
    "import tensorflow as tf\n",
    "import h5py\n",
    "\n",
    "from src.data.tf_data_hdf5 import get_tf_data\n",
    "from src.data.utils import get_split"
   ]
  },
  {
   "cell_type": "code",
   "execution_count": null,
   "metadata": {},
   "outputs": [],
   "source": [
    "clinical_df = pd.read_csv(\"../data/clinical_info_with_lung_info.csv\").set_index(\"patient_id\")"
   ]
  },
  {
   "cell_type": "code",
   "execution_count": null,
   "metadata": {},
   "outputs": [],
   "source": [
    "patient_list = clinical_df.index"
   ]
  },
  {
   "cell_type": "code",
   "execution_count": null,
   "metadata": {},
   "outputs": [],
   "source": [
    "h5_file = h5py.File(\n",
    "    \"../data/processed/hdf5_2d_pet_standardized_lung_slices/data.hdf5\", \"r\")\n"
   ]
  },
  {
   "cell_type": "code",
   "execution_count": null,
   "metadata": {},
   "outputs": [],
   "source": [
    "ids_train, ids_test, ids_val = get_split(1)"
   ]
  },
  {
   "cell_type": "code",
   "execution_count": null,
   "metadata": {},
   "outputs": [],
   "source": [
    "ds_train = get_tf_data(h5_file,\n",
    "                       clinical_df,\n",
    "                       patient_list=ids_train,\n",
    "                       shuffle=True,\n",
    "                       oversample=True,\n",
    "                       center_on=\"GTVt\",\n",
    "                       return_mask=False,\n",
    "                       return_plc_status=True,\n",
    "                       n_channels=3)\n"
   ]
  },
  {
   "cell_type": "code",
   "execution_count": null,
   "metadata": {},
   "outputs": [],
   "source": [
    "ds = ds_train.batch(16).take(2).as_numpy_iterator()"
   ]
  },
  {
   "cell_type": "code",
   "execution_count": null,
   "metadata": {},
   "outputs": [],
   "source": [
    "nb = 0\n",
    "for x, mask, plc_status, p in ds:\n",
    "    batch_size = plc_status.shape[0]\n",
    "    print(f\"Batch {nb}: \")\n",
    "    for b in range(batch_size):\n",
    "        print(f\"patient {p[b].decode('utf-8')}, \\t plc status {plc_status[b]}\")\n",
    "    nb += 1\n"
   ]
  },
  {
   "cell_type": "code",
   "execution_count": null,
   "metadata": {},
   "outputs": [],
   "source": []
  }
 ],
 "metadata": {
  "interpreter": {
   "hash": "26794336849f69f1a455c7b9076cea9e2673f8b3db6968d6e62389984b0c1cbc"
  },
  "kernelspec": {
   "display_name": "Python 3.6.9 64-bit ('env': virtualenv)",
   "language": "python",
   "name": "python3"
  },
  "language_info": {
   "codemirror_mode": {
    "name": "ipython",
    "version": 3
   },
   "file_extension": ".py",
   "mimetype": "text/x-python",
   "name": "python",
   "nbconvert_exporter": "python",
   "pygments_lexer": "ipython3",
   "version": "3.6.9"
  },
  "orig_nbformat": 4
 },
 "nbformat": 4,
 "nbformat_minor": 2
}
