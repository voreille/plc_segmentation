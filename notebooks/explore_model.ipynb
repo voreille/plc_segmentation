{
 "cells": [
  {
   "cell_type": "code",
   "execution_count": 1,
   "metadata": {},
   "outputs": [],
   "source": [
    "import os\n",
    "\n",
    "import tensorflow as tf\n",
    "import numpy as np\n",
    "import h5py\n",
    "import matplotlib.pyplot as plt\n",
    "\n",
    "from src.models.models import unet_model\n",
    "from src.features.extract_features import reshape_image_unet\n",
    "from src.models.utils import predict_volume\n",
    "from src.data.tf_data_hdf5 import preprocess_image, get_bb_mask_voxel\n",
    "from src.data.utils import get_split"
   ]
  },
  {
   "cell_type": "code",
   "execution_count": 2,
   "metadata": {},
   "outputs": [],
   "source": [
    "os.environ[\"CUDA_VISIBLE_DEVICES\"] = \"2\""
   ]
  },
  {
   "cell_type": "code",
   "execution_count": 3,
   "metadata": {},
   "outputs": [
    {
     "name": "stdout",
     "output_type": "stream",
     "text": [
      "WARNING:tensorflow:`input_shape` is undefined or non-square, or `rows` is not in [96, 128, 160, 192, 224]. Weights for input shape (224, 224) will be loaded as the default.\n"
     ]
    }
   ],
   "source": [
    "model = unet_model(3, input_shape=(None, None, 3), upsampling_kind=\"trans_conv\")"
   ]
  },
  {
   "cell_type": "code",
   "execution_count": 33,
   "metadata": {},
   "outputs": [],
   "source": [
    "model_trained = tf.keras.models.load_model(\n",
    "    \"/home/valentin/python_wkspce/plc_segmentation/models/pretrained_unet__alpha_0.9__upsampling_trans_conv__split_0__oversample_True__rangle_None__rshift_None__20211213-194032/model_weight\",\n",
    "    compile=False)\n"
   ]
  },
  {
   "cell_type": "code",
   "execution_count": 34,
   "metadata": {},
   "outputs": [],
   "source": [
    "model.set_weights(model_trained.get_weights())"
   ]
  },
  {
   "cell_type": "code",
   "execution_count": 35,
   "metadata": {},
   "outputs": [
    {
     "name": "stdout",
     "output_type": "stream",
     "text": [
      "Model: \"model_1\"\n",
      "__________________________________________________________________________________________________\n",
      "Layer (type)                    Output Shape         Param #     Connected to                     \n",
      "==================================================================================================\n",
      "input_2 (InputLayer)            [(None, None, None,  0                                            \n",
      "__________________________________________________________________________________________________\n",
      "model (Functional)              [(None, None, None,  1841984     input_2[0][0]                    \n",
      "__________________________________________________________________________________________________\n",
      "sequential (Sequential)         (None, None, None, 5 3017728     model[0][4]                      \n",
      "__________________________________________________________________________________________________\n",
      "concatenate (Concatenate)       (None, None, None, 1 0           sequential[0][0]                 \n",
      "                                                                 model[0][3]                      \n",
      "__________________________________________________________________________________________________\n",
      "sequential_1 (Sequential)       (None, None, None, 2 1705472     concatenate[0][0]                \n",
      "__________________________________________________________________________________________________\n",
      "concatenate_1 (Concatenate)     (None, None, None, 4 0           sequential_1[0][0]               \n",
      "                                                                 model[0][2]                      \n",
      "__________________________________________________________________________________________________\n",
      "sequential_2 (Sequential)       (None, None, None, 1 377600      concatenate_1[0][0]              \n",
      "__________________________________________________________________________________________________\n",
      "concatenate_2 (Concatenate)     (None, None, None, 2 0           sequential_2[0][0]               \n",
      "                                                                 model[0][1]                      \n",
      "__________________________________________________________________________________________________\n",
      "sequential_3 (Sequential)       (None, None, None, 6 106880      concatenate_2[0][0]              \n",
      "__________________________________________________________________________________________________\n",
      "concatenate_3 (Concatenate)     (None, None, None, 1 0           sequential_3[0][0]               \n",
      "                                                                 model[0][0]                      \n",
      "__________________________________________________________________________________________________\n",
      "sequential_4 (Sequential)       (None, None, None, 3 2007        concatenate_3[0][0]              \n",
      "==================================================================================================\n",
      "Total params: 7,051,671\n",
      "Trainable params: 5,207,767\n",
      "Non-trainable params: 1,843,904\n",
      "__________________________________________________________________________________________________\n"
     ]
    }
   ],
   "source": [
    "model.summary()"
   ]
  },
  {
   "cell_type": "code",
   "execution_count": 36,
   "metadata": {},
   "outputs": [],
   "source": [
    "h5_file = h5py.File(\"../data/processed/hdf5_2d/data.hdf5\", \"r\")\n",
    "patient_list = list(h5_file)\n",
    "patient_list.remove(\"PatientLC_63\")  # Just one lung\n",
    "patient_list.remove(\"PatientLC_72\")  # the same as 70\n",
    "\n"
   ]
  },
  {
   "cell_type": "code",
   "execution_count": 37,
   "metadata": {},
   "outputs": [],
   "source": [
    "splits = get_split(0)\n",
    "ids_train = splits[\"train\"]\n",
    "ids_val = splits[\"val\"]\n",
    "ids_test = splits[\"test\"]"
   ]
  },
  {
   "cell_type": "code",
   "execution_count": 38,
   "metadata": {},
   "outputs": [
    {
     "data": {
      "text/plain": [
       "['PatientLC_40',\n",
       " 'PatientLC_52',\n",
       " 'Case_18',\n",
       " 'Case_5',\n",
       " 'Case_10',\n",
       " 'Case_14',\n",
       " 'PatientLC_90',\n",
       " 'PatientLC_18',\n",
       " 'PatientLC_94',\n",
       " 'Case_12',\n",
       " 'Case_1',\n",
       " 'PatientLC_93',\n",
       " 'Case_3',\n",
       " 'PatientLC_20',\n",
       " 'PatientLC_82',\n",
       " 'PatientLC_36',\n",
       " 'PatientLC_15',\n",
       " 'PatientLC_24',\n",
       " 'PatientLC_88',\n",
       " 'PatientLC_67',\n",
       " 'PatientLC_39',\n",
       " 'PatientLC_61',\n",
       " 'PatientLC_16',\n",
       " 'PatientLC_53',\n",
       " 'PatientLC_22',\n",
       " 'PatientLC_29',\n",
       " 'PatientLC_60',\n",
       " 'PatientLC_62',\n",
       " 'PatientLC_64',\n",
       " 'PatientLC_13',\n",
       " 'PatientLC_55',\n",
       " 'PatientLC_73',\n",
       " 'PatientLC_70',\n",
       " 'PatientLC_2',\n",
       " 'PatientLC_66',\n",
       " 'PatientLC_56',\n",
       " 'PatientLC_65',\n",
       " 'PatientLC_46',\n",
       " 'PatientLC_9',\n",
       " 'PatientLC_50',\n",
       " 'PatientLC_26',\n",
       " 'PatientLC_37',\n",
       " 'PatientLC_21',\n",
       " 'PatientLC_42',\n",
       " 'PatientLC_45',\n",
       " 'PatientLC_81',\n",
       " 'PatientLC_19',\n",
       " 'PatientLC_74',\n",
       " 'PatientLC_32',\n",
       " 'PatientLC_34',\n",
       " 'PatientLC_87']"
      ]
     },
     "execution_count": 38,
     "metadata": {},
     "output_type": "execute_result"
    }
   ],
   "source": [
    "ids_train"
   ]
  },
  {
   "cell_type": "code",
   "execution_count": 39,
   "metadata": {},
   "outputs": [],
   "source": [
    "patient = \"PatientLC_36\"\n",
    "image = h5_file[patient][\"image\"][()]\n",
    "mask = h5_file[patient][\"mask\"][()]"
   ]
  },
  {
   "cell_type": "code",
   "execution_count": 40,
   "metadata": {},
   "outputs": [
    {
     "data": {
      "text/plain": [
       "<matplotlib.image.AxesImage at 0x7f8b8488c7f0>"
      ]
     },
     "execution_count": 40,
     "metadata": {},
     "output_type": "execute_result"
    },
    {
     "data": {
      "image/png": "[encoded data removed]",
      "text/plain": [
       "<Figure size 432x288 with 2 Axes>"
      ]
     },
     "metadata": {
      "needs_background": "light"
     },
     "output_type": "display_data"
    }
   ],
   "source": [
    "plt.subplot(121)\n",
    "plt.imshow(image[:,:,15,0])\n",
    "plt.subplot(122)\n",
    "plt.imshow(mask[:,:,15,1])"
   ]
  },
  {
   "cell_type": "code",
   "execution_count": 41,
   "metadata": {},
   "outputs": [],
   "source": [
    "pet_mean = np.mean(image[...,1])\n",
    "pet_std = np.std(image[...,1])\n",
    "image = reshape_image_unet(image, mask[..., 2] + mask[..., 3])\n",
    "image = preprocess_image(image, pet_mean=pet_mean, pet_std=pet_std)\n",
    "prediction = predict_volume(image, model)\n",
    " "
   ]
  },
  {
   "cell_type": "code",
   "execution_count": 42,
   "metadata": {},
   "outputs": [
    {
     "data": {
      "text/plain": [
       "(288, 288, 49, 3)"
      ]
     },
     "execution_count": 42,
     "metadata": {},
     "output_type": "execute_result"
    }
   ],
   "source": [
    "prediction.shape"
   ]
  },
  {
   "cell_type": "code",
   "execution_count": 43,
   "metadata": {},
   "outputs": [
    {
     "data": {
      "text/plain": [
       "0"
      ]
     },
     "execution_count": 43,
     "metadata": {},
     "output_type": "execute_result"
    }
   ],
   "source": [
    "np.sum(prediction[..., 1] > 0.5)"
   ]
  },
  {
   "cell_type": "code",
   "execution_count": 44,
   "metadata": {},
   "outputs": [
    {
     "data": {
      "text/plain": [
       "array([128, 265,  10, 152, 294,  38])"
      ]
     },
     "execution_count": 44,
     "metadata": {},
     "output_type": "execute_result"
    }
   ],
   "source": [
    "get_bb_mask_voxel(mask[:, :, :, 1])"
   ]
  },
  {
   "cell_type": "code",
   "execution_count": 45,
   "metadata": {},
   "outputs": [
    {
     "data": {
      "text/plain": [
       "<matplotlib.image.AxesImage at 0x7f8b9f6440f0>"
      ]
     },
     "execution_count": 45,
     "metadata": {},
     "output_type": "execute_result"
    },
    {
     "data": {
      "image/png": "[encoded data removed]",
      "text/plain": [
       "<Figure size 432x288 with 1 Axes>"
      ]
     },
     "metadata": {
      "needs_background": "light"
     },
     "output_type": "display_data"
    }
   ],
   "source": [
    "plt.imshow(mask[:, :, 30, 1])\n"
   ]
  },
  {
   "cell_type": "code",
   "execution_count": 46,
   "metadata": {},
   "outputs": [
    {
     "data": {
      "text/plain": [
       "<matplotlib.image.AxesImage at 0x7f8b9f587630>"
      ]
     },
     "execution_count": 46,
     "metadata": {},
     "output_type": "execute_result"
    },
    {
     "data": {
      "image/png": "[encoded data removed]",
      "text/plain": [
       "<Figure size 432x288 with 1 Axes>"
      ]
     },
     "metadata": {
      "needs_background": "light"
     },
     "output_type": "display_data"
    }
   ],
   "source": [
    "plt.imshow(prediction[:, :, 40, 1]> 0.5)\n"
   ]
  },
  {
   "cell_type": "code",
   "execution_count": null,
   "metadata": {},
   "outputs": [],
   "source": [
    "plt.imshow(image[:, :, 15, 0])\n",
    "plt.colorbar()\n"
   ]
  },
  {
   "cell_type": "code",
   "execution_count": null,
   "metadata": {},
   "outputs": [],
   "source": [
    "np.std(image[:, :, :, 1])"
   ]
  },
  {
   "cell_type": "code",
   "execution_count": null,
   "metadata": {},
   "outputs": [],
   "source": []
  }
 ],
 "metadata": {
  "interpreter": {
   "hash": "26794336849f69f1a455c7b9076cea9e2673f8b3db6968d6e62389984b0c1cbc"
  },
  "kernelspec": {
   "display_name": "Python 3.6.9 64-bit ('env': virtualenv)",
   "language": "python",
   "name": "python3"
  },
  "language_info": {
   "codemirror_mode": {
    "name": "ipython",
    "version": 3
   },
   "file_extension": ".py",
   "mimetype": "text/x-python",
   "name": "python",
   "nbconvert_exporter": "python",
   "pygments_lexer": "ipython3",
   "version": "3.6.9"
  },
  "orig_nbformat": 4
 },
 "nbformat": 4,
 "nbformat_minor": 2
}
