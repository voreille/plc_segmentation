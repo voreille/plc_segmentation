{
 "cells": [
  {
   "cell_type": "code",
   "execution_count": 1,
   "metadata": {},
   "outputs": [],
   "source": [
    "from itertools import product\n",
    "\n",
    "import pandas as pd\n",
    "import numpy as np\n",
    "from sklearn.utils import resample\n",
    "from sklearn.metrics import (accuracy_score, recall_score, precision_score,\n",
    "                             roc_auc_score, confusion_matrix)\n",
    "from sklearn.preprocessing import StandardScaler\n",
    "from sklearn.pipeline import Pipeline\n",
    "from sklearn.model_selection import (GridSearchCV, StratifiedKFold,\n",
    "                                     train_test_split)\n",
    "from sklearn.linear_model import LogisticRegression\n",
    "from sklearn.ensemble import RandomForestClassifier\n",
    "from sklearn.utils import resample\n",
    "from sklearn.feature_selection import SelectKBest, f_classif\n",
    "from sklearn.decomposition import PCA\n",
    "from scipy import stats\n",
    "from statsmodels.stats.contingency_tables import mcnemar\n",
    "\n",
    "from src.radiomics.models.data import load_data, get_formatted_data\n",
    "from src.radiomics.models.utils import RemoveHighlyCorrelatedFeatures"
   ]
  },
  {
   "cell_type": "code",
   "execution_count": 2,
   "metadata": {},
   "outputs": [],
   "source": [
    "\n",
    "clinical_df = pd.read_csv(\"/home/valentin/python_wkspce/plc_segmentation/data/clinical_info_updated.csv\").set_index(\"patient_id\")"
   ]
  },
  {
   "cell_type": "code",
   "execution_count": 3,
   "metadata": {},
   "outputs": [],
   "source": [
    "ids = clinical_df.index\n",
    "ids = [\n",
    "    i for i in ids if i not in\n",
    "    [\"PatientLC_71\", \"PatientLC_21\", \"PatientLC_63\", \"PatientLC_72\"]\n",
    "]\n",
    "clinical_df = clinical_df.loc[ids, :]\n"
   ]
  },
  {
   "cell_type": "code",
   "execution_count": 4,
   "metadata": {},
   "outputs": [
    {
     "data": {
      "text/plain": [
       "(105, 16)"
      ]
     },
     "execution_count": 4,
     "metadata": {},
     "output_type": "execute_result"
    }
   ],
   "source": [
    "clinical_df.shape"
   ]
  },
  {
   "cell_type": "code",
   "execution_count": 5,
   "metadata": {},
   "outputs": [],
   "source": [
    "def get_gridsearch():\n",
    "    scaler = StandardScaler()\n",
    "\n",
    "    clf_lr = LogisticRegression(penalty=\"none\", solver='sag', max_iter=1000)\n",
    "    clf_rf = RandomForestClassifier()\n",
    "\n",
    "    pipe = Pipeline(steps=[\n",
    "        ('normalization', scaler),\n",
    "        ('feature_removal', RemoveHighlyCorrelatedFeatures()),\n",
    "        ('feature_selection', None),\n",
    "        ('classifier', None),\n",
    "    ])\n",
    "\n",
    "    F_OPTIONS = [1, 2, 3, 5]\n",
    "    K_OPTIONS = [k for k in range(1, 11)]\n",
    "\n",
    "    param_grid = [\n",
    "        {\n",
    "            'feature_selection': [SelectKBest(f_classif)],\n",
    "            'feature_selection__k': F_OPTIONS,\n",
    "            'classifier': [clf_rf],\n",
    "            'classifier__n_estimators': [100, 150]\n",
    "        },\n",
    "        {\n",
    "            'feature_selection': [SelectKBest(f_classif)],\n",
    "            'feature_selection__k': F_OPTIONS,\n",
    "            'classifier': [clf_lr],\n",
    "        },\n",
    "        {\n",
    "            'feature_selection': [PCA()],\n",
    "            'feature_selection__n_components': K_OPTIONS,\n",
    "            'classifier': [clf_lr],\n",
    "        },\n",
    "        {\n",
    "            'feature_selection': [PCA()],\n",
    "            'feature_selection__n_components': K_OPTIONS,\n",
    "            'classifier': [clf_rf],\n",
    "        },\n",
    "    ]\n",
    "\n",
    "    return GridSearchCV(pipe,\n",
    "                        param_grid,\n",
    "                        cv=StratifiedKFold(),\n",
    "                        n_jobs=23,\n",
    "                        refit=True,\n",
    "                        verbose=1,\n",
    "                        scoring=\"roc_auc\")\n",
    "\n"
   ]
  },
  {
   "cell_type": "code",
   "execution_count": 6,
   "metadata": {},
   "outputs": [],
   "source": [
    "search = get_gridsearch()"
   ]
  },
  {
   "cell_type": "code",
   "execution_count": 7,
   "metadata": {},
   "outputs": [],
   "source": [
    "df  = load_data(\n",
    "    \"../data/processed/radiomics/extracted_features.csv\",\n",
    "    # \"../data/processed/radiomics/extracted_features_auto.csv\",\n",
    "    \"../data/clinical_info_updated.csv\",\n",
    ")"
   ]
  },
  {
   "cell_type": "code",
   "execution_count": 48,
   "metadata": {},
   "outputs": [],
   "source": [
    "skf = StratifiedKFold(n_splits=5, shuffle=True, random_state=2)"
   ]
  },
  {
   "cell_type": "code",
   "execution_count": 49,
   "metadata": {},
   "outputs": [],
   "source": [
    "def get_scores(*, search, skf, modality, voi):\n",
    "    X, y = get_formatted_data(df, modality=modality, voi=voi, return_df=True)\n",
    "    y_output = y.copy()\n",
    "    y_output[\"y_pred\"] = 0\n",
    "    y_output[\"y_pred_proba\"] = 0\n",
    "    for train_index, test_index in skf.split(X, y):\n",
    "        X_train, X_test = X.iloc[train_index], X.iloc[test_index]\n",
    "        y_train = np.squeeze(y.iloc[train_index].values)\n",
    "\n",
    "        search.fit(X_train, y_train)\n",
    "\n",
    "        y_output.iloc[test_index,\n",
    "                      y_output.columns.get_loc(\"y_pred\")] = np.squeeze(\n",
    "                          search.predict(X_test))\n",
    "        y_output.iloc[test_index,\n",
    "                      y_output.columns.get_loc(\"y_pred_proba\")] = np.squeeze(\n",
    "                          search.predict_proba(X_test)[:, 1])\n",
    "\n",
    "    return y_output\n"
   ]
  },
  {
   "cell_type": "code",
   "execution_count": 50,
   "metadata": {},
   "outputs": [],
   "source": [
    "def get_scores_fusion(*, skf, voi):\n",
    "    X_pt, _ = get_formatted_data(df, modality=\"PT\", voi=voi, return_df=True)\n",
    "    X_ct, y = get_formatted_data(df, modality=\"CT\", voi=voi, return_df=True)\n",
    "    y_output = y.copy()\n",
    "    y_output[\"y_pred\"] = 0\n",
    "    y_output[\"y_pred_proba\"] = 0\n",
    "    search_pt = get_gridsearch()\n",
    "    search_ct = get_gridsearch()\n",
    "    model_fusion = LogisticRegression(penalty=\"none\",\n",
    "                                      solver='sag',\n",
    "                                      max_iter=1000)\n",
    "    for train_index, test_index in skf.split(X_pt, y):\n",
    "        X_train_pt, X_test_pt = X_pt.iloc[train_index], X_pt.iloc[test_index]\n",
    "        X_train_ct, X_test_ct = X_ct.iloc[train_index], X_ct.iloc[test_index]\n",
    "        y_train = np.squeeze(y.iloc[train_index].values)\n",
    "\n",
    "        search_pt.fit(X_train_pt, y_train)\n",
    "        search_ct.fit(X_train_ct, y_train)\n",
    "        model_fusion.fit(\n",
    "            np.stack(\n",
    "                [\n",
    "                    search_pt.predict_proba(X_train_pt)[:, 1],\n",
    "                    search_ct.predict_proba(X_train_ct)[:, 1],\n",
    "                ],\n",
    "                axis=1,\n",
    "            ), y_train)\n",
    "\n",
    "        def make_prediction(x_pt, x_ct):\n",
    "            preds = np.stack([\n",
    "                search_pt.predict_proba(x_pt)[:, 1],\n",
    "                search_ct.predict_proba(x_ct)[:, 1],\n",
    "            ],\n",
    "                             axis=1)\n",
    "            return model_fusion.predict(preds), model_fusion.predict_proba(\n",
    "                preds)[:, 1]\n",
    "\n",
    "        predictions, predictions_proba = make_prediction(X_test_pt, X_test_ct)\n",
    "        y_output.iloc[test_index,\n",
    "                      y_output.columns.get_loc(\"y_pred\")] = predictions\n",
    "        y_output.iloc[\n",
    "            test_index,\n",
    "            y_output.columns.get_loc(\"y_pred_proba\")] = predictions_proba\n",
    "\n",
    "    return y_output\n",
    "\n"
   ]
  },
  {
   "cell_type": "code",
   "execution_count": 51,
   "metadata": {},
   "outputs": [],
   "source": [
    "def compute_all_mcnemar(x1, x2):\n",
    "    cm = confusion_matrix(x1, x2)\n",
    "    return {\n",
    "        \"confusion_matrix\": cm,\n",
    "        \"pvalue\": mcnemar(cm, exact=False, correction=False).pvalue,\n",
    "        \"pvalue_corrected\": mcnemar(cm, exact=False, correction=True).pvalue,\n",
    "        \"pvalue_exact\": mcnemar(cm, exact=True, correction=False).pvalue,\n",
    "    }"
   ]
  },
  {
   "cell_type": "code",
   "execution_count": 52,
   "metadata": {},
   "outputs": [
    {
     "data": {
      "text/plain": [
       "0.0390625"
      ]
     },
     "execution_count": 52,
     "metadata": {},
     "output_type": "execute_result"
    }
   ],
   "source": [
    "cm = np.array([[100000, 8], [1, 100000]])\n",
    "mcnemar(cm, exact=True, correction=False).pvalue"
   ]
  },
  {
   "cell_type": "code",
   "execution_count": 53,
   "metadata": {},
   "outputs": [],
   "source": [
    "# output_1 = get_scores_fusion(skf=skf, voi=\"GTV_L\")\n"
   ]
  },
  {
   "cell_type": "code",
   "execution_count": 54,
   "metadata": {},
   "outputs": [
    {
     "name": "stdout",
     "output_type": "stream",
     "text": [
      "Fitting 5 folds for each of 32 candidates, totalling 160 fits\n",
      "Fitting 5 folds for each of 32 candidates, totalling 160 fits\n",
      "Fitting 5 folds for each of 32 candidates, totalling 160 fits\n",
      "Fitting 5 folds for each of 32 candidates, totalling 160 fits\n",
      "Fitting 5 folds for each of 32 candidates, totalling 160 fits\n"
     ]
    }
   ],
   "source": [
    "output_1 = get_scores(search=search, skf=skf, modality=\"CT\", voi=\"GTV_L\")"
   ]
  },
  {
   "cell_type": "code",
   "execution_count": 55,
   "metadata": {},
   "outputs": [
    {
     "name": "stdout",
     "output_type": "stream",
     "text": [
      "Fitting 5 folds for each of 32 candidates, totalling 160 fits\n",
      "Fitting 5 folds for each of 32 candidates, totalling 160 fits\n",
      "Fitting 5 folds for each of 32 candidates, totalling 160 fits\n",
      "Fitting 5 folds for each of 32 candidates, totalling 160 fits\n",
      "Fitting 5 folds for each of 32 candidates, totalling 160 fits\n"
     ]
    }
   ],
   "source": [
    "output_2 = get_scores(search=search, skf=skf, modality=\"PT\", voi=\"GTV_L\")"
   ]
  },
  {
   "cell_type": "code",
   "execution_count": 56,
   "metadata": {},
   "outputs": [],
   "source": [
    "patient_ids = output_1.index"
   ]
  },
  {
   "cell_type": "code",
   "execution_count": 57,
   "metadata": {},
   "outputs": [
    {
     "data": {
      "text/plain": [
       "{'confusion_matrix': array([[26, 10],\n",
       "        [13, 56]]),\n",
       " 'pvalue': 0.5316145768816123,\n",
       " 'pvalue_corrected': 0.6766573217164242,\n",
       " 'pvalue_exact': 0.6776394844055175}"
      ]
     },
     "execution_count": 57,
     "metadata": {},
     "output_type": "execute_result"
    }
   ],
   "source": [
    "compute_all_mcnemar(\n",
    "    output_1.loc[patient_ids, \"y_pred\"].values,\n",
    "    output_2.loc[patient_ids, \"y_pred\"].values,\n",
    ")\n"
   ]
  },
  {
   "cell_type": "code",
   "execution_count": null,
   "metadata": {},
   "outputs": [],
   "source": []
  },
  {
   "cell_type": "code",
   "execution_count": 18,
   "metadata": {},
   "outputs": [
    {
     "data": {
      "text/plain": [
       "0.8"
      ]
     },
     "execution_count": 18,
     "metadata": {},
     "output_type": "execute_result"
    }
   ],
   "source": [
    "accuracy_score(output_1.plc_status, output_1.y_pred)"
   ]
  },
  {
   "cell_type": "code",
   "execution_count": 19,
   "metadata": {},
   "outputs": [
    {
     "data": {
      "text/plain": [
       "0.8380952380952381"
      ]
     },
     "execution_count": 19,
     "metadata": {},
     "output_type": "execute_result"
    }
   ],
   "source": [
    "accuracy_score(output_2.plc_status, output_2.y_pred)"
   ]
  },
  {
   "cell_type": "code",
   "execution_count": 20,
   "metadata": {},
   "outputs": [
    {
     "data": {
      "text/plain": [
       "0.8326981707317074"
      ]
     },
     "execution_count": 20,
     "metadata": {},
     "output_type": "execute_result"
    }
   ],
   "source": [
    "roc_auc_score(output_1.plc_status, output_1.y_pred_proba)"
   ]
  },
  {
   "cell_type": "code",
   "execution_count": 21,
   "metadata": {},
   "outputs": [
    {
     "data": {
      "text/plain": [
       "0.8405106707317073"
      ]
     },
     "execution_count": 21,
     "metadata": {},
     "output_type": "execute_result"
    }
   ],
   "source": [
    "roc_auc_score(output_2.plc_status, output_2.y_pred_proba)"
   ]
  },
  {
   "cell_type": "code",
   "execution_count": 22,
   "metadata": {},
   "outputs": [
    {
     "data": {
      "text/plain": [
       "Index(['plc_status', 'patient_age', 'patient_sex', 'SUVmax_lesion',\n",
       "       'SUVmean_lesion', 'MTV', 'TLG', 'PET_lymphangitis_Visual_analysis',\n",
       "       'Peri bronchovascular thickening', 'LymphangitisCT', 'pT', 'pN', 'M',\n",
       "       'stage', 'pathologic type', 'is_chuv'],\n",
       "      dtype='object')"
      ]
     },
     "execution_count": 22,
     "metadata": {},
     "output_type": "execute_result"
    }
   ],
   "source": [
    "clinical_df.columns"
   ]
  },
  {
   "cell_type": "code",
   "execution_count": 30,
   "metadata": {},
   "outputs": [],
   "source": [
    "# col_clin = \"PET_lymphangitis_Visual_analysis\"\n",
    "# col_clin = \"LymphangitisCT\"\n",
    "col_clin = \"Peri bronchovascular thickening\""
   ]
  },
  {
   "cell_type": "code",
   "execution_count": 31,
   "metadata": {},
   "outputs": [],
   "source": [
    "patient_ids = clinical_df[~clinical_df[col_clin].isna()].index"
   ]
  },
  {
   "cell_type": "code",
   "execution_count": 32,
   "metadata": {},
   "outputs": [
    {
     "data": {
      "text/plain": [
       "{'confusion_matrix': array([[28, 26],\n",
       "        [ 5, 39]]),\n",
       " 'pvalue': 0.00016213175204392638,\n",
       " 'pvalue_corrected': 0.00032801631501352865,\n",
       " 'pvalue_exact': 0.00019219517707824712}"
      ]
     },
     "execution_count": 32,
     "metadata": {},
     "output_type": "execute_result"
    }
   ],
   "source": [
    "compute_all_mcnemar(\n",
    "    clinical_df.loc[patient_ids, col_clin] != 0,\n",
    "    output_1.loc[patient_ids, \"y_pred\"],\n",
    ")\n"
   ]
  },
  {
   "cell_type": "code",
   "execution_count": 35,
   "metadata": {},
   "outputs": [
    {
     "data": {
      "text/plain": [
       "0.8228070175438597"
      ]
     },
     "execution_count": 35,
     "metadata": {},
     "output_type": "execute_result"
    }
   ],
   "source": [
    "roc_auc_score(output_1.loc[patient_ids, \"plc_status\"],output_1.loc[patient_ids, \"y_pred_proba\"])"
   ]
  },
  {
   "cell_type": "code",
   "execution_count": 36,
   "metadata": {},
   "outputs": [
    {
     "data": {
      "text/plain": [
       "0.7807017543859649"
      ]
     },
     "execution_count": 36,
     "metadata": {},
     "output_type": "execute_result"
    }
   ],
   "source": [
    "roc_auc_score(clinical_df.loc[patient_ids, \"plc_status\"],\n",
    "              clinical_df.loc[patient_ids, col_clin])\n"
   ]
  },
  {
   "cell_type": "code",
   "execution_count": 37,
   "metadata": {},
   "outputs": [
    {
     "data": {
      "text/plain": [
       "{'confusion_matrix': array([[30, 24],\n",
       "        [ 6, 38]]),\n",
       " 'pvalue': 0.0010150009471130682,\n",
       " 'pvalue_corrected': 0.0019107751373644388,\n",
       " 'pvalue_exact': 0.0014309063553810128}"
      ]
     },
     "execution_count": 37,
     "metadata": {},
     "output_type": "execute_result"
    }
   ],
   "source": [
    "compute_all_mcnemar(\n",
    "    clinical_df.loc[patient_ids, col_clin] != 0,\n",
    "    output_2.loc[patient_ids, \"y_pred\"],\n",
    ")"
   ]
  },
  {
   "cell_type": "code",
   "execution_count": null,
   "metadata": {},
   "outputs": [],
   "source": [
    "roc_auc_score(output_2.loc[patient_ids, \"plc_status\"],output_2.loc[patient_ids, \"y_pred_proba\"])"
   ]
  },
  {
   "cell_type": "code",
   "execution_count": null,
   "metadata": {},
   "outputs": [],
   "source": []
  }
 ],
 "metadata": {
  "interpreter": {
   "hash": "26794336849f69f1a455c7b9076cea9e2673f8b3db6968d6e62389984b0c1cbc"
  },
  "kernelspec": {
   "display_name": "Python 3.6.9 ('env': virtualenv)",
   "language": "python",
   "name": "python3"
  },
  "language_info": {
   "codemirror_mode": {
    "name": "ipython",
    "version": 3
   },
   "file_extension": ".py",
   "mimetype": "text/x-python",
   "name": "python",
   "nbconvert_exporter": "python",
   "pygments_lexer": "ipython3",
   "version": "3.6.9"
  },
  "orig_nbformat": 4
 },
 "nbformat": 4,
 "nbformat_minor": 2
}
