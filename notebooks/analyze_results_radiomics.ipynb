{
 "cells": [
  {
   "cell_type": "code",
   "execution_count": 1,
   "metadata": {},
   "outputs": [],
   "source": [
    "import numpy as np\n",
    "import pandas as pd\n",
    "from scipy.stats import t\n",
    "import seaborn as sns\n",
    "import matplotlib.pyplot as plt\n",
    "\n",
    "from src.statistics.stats import compare_score, corrected_ci"
   ]
  },
  {
   "cell_type": "code",
   "execution_count": 2,
   "metadata": {},
   "outputs": [],
   "source": [
    "df = pd.read_csv(\"../results/radiomics/rkf_results/light.csv\")\n",
    "# df = pd.read_csv(\"../results/radiomics/rkf_results/default.csv\")\n",
    "df_combat = pd.read_csv(\"../results/radiomics/rkf_results/light_combat.csv\")\n",
    "df_fusion = pd.read_csv(\"../results/radiomics/rkf_results/light_fusion.csv\")\n",
    "df_dummy = pd.read_csv(\"../results/radiomics/rkf_results/dummy.csv\")\n",
    "df_suvmax = pd.read_csv(\"../results/radiomics/rkf_results/suvmax.csv\")\n",
    "df_size = pd.read_csv(\"../results/radiomics/rkf_results/light_fusion_size_analysis.csv\")"
   ]
  },
  {
   "cell_type": "code",
   "execution_count": 3,
   "metadata": {},
   "outputs": [
    {
     "name": "stderr",
     "output_type": "stream",
     "text": [
      "/home/valentin/python_wkspce/plc_segmentation/env/lib/python3.6/site-packages/ipykernel_launcher.py:2: SettingWithCopyWarning: \n",
      "A value is trying to be set on a copy of a slice from a DataFrame.\n",
      "Try using .loc[row_indexer,col_indexer] = value instead\n",
      "\n",
      "See the caveats in the documentation: https://pandas.pydata.org/pandas-docs/stable/user_guide/indexing.html#returning-a-view-versus-a-copy\n",
      "  \n"
     ]
    }
   ],
   "source": [
    "df_plot = df_size[df_size[\"voi\"]==\"GTV_L\"]\n",
    "df_plot[\"1/n_train\"] = df_plot[\"n_train\"].map(lambda x: 1/x)"
   ]
  },
  {
   "cell_type": "code",
   "execution_count": 4,
   "metadata": {},
   "outputs": [
    {
     "data": {
      "text/html": [
       "<div>\n",
       "<style scoped>\n",
       "    .dataframe tbody tr th:only-of-type {\n",
       "        vertical-align: middle;\n",
       "    }\n",
       "\n",
       "    .dataframe tbody tr th {\n",
       "        vertical-align: top;\n",
       "    }\n",
       "\n",
       "    .dataframe thead th {\n",
       "        text-align: right;\n",
       "    }\n",
       "</style>\n",
       "<table border=\"1\" class=\"dataframe\">\n",
       "  <thead>\n",
       "    <tr style=\"text-align: right;\">\n",
       "      <th></th>\n",
       "      <th>Unnamed: 0</th>\n",
       "      <th>accuracy</th>\n",
       "      <th>n_test</th>\n",
       "      <th>n_train</th>\n",
       "      <th>npv</th>\n",
       "      <th>precision</th>\n",
       "      <th>roc_auc</th>\n",
       "      <th>sensitivity</th>\n",
       "      <th>specificity</th>\n",
       "      <th>split</th>\n",
       "    </tr>\n",
       "    <tr>\n",
       "      <th>1/n_train</th>\n",
       "      <th></th>\n",
       "      <th></th>\n",
       "      <th></th>\n",
       "      <th></th>\n",
       "      <th></th>\n",
       "      <th></th>\n",
       "      <th></th>\n",
       "      <th></th>\n",
       "      <th></th>\n",
       "      <th></th>\n",
       "    </tr>\n",
       "  </thead>\n",
       "  <tbody>\n",
       "    <tr>\n",
       "      <th>0.011111</th>\n",
       "      <td>749.5</td>\n",
       "      <td>0.623727</td>\n",
       "      <td>10.6</td>\n",
       "      <td>90.0</td>\n",
       "      <td>0.571619</td>\n",
       "      <td>0.667448</td>\n",
       "      <td>0.605077</td>\n",
       "      <td>0.735238</td>\n",
       "      <td>0.4575</td>\n",
       "      <td>49.5</td>\n",
       "    </tr>\n",
       "    <tr>\n",
       "      <th>0.012500</th>\n",
       "      <td>649.5</td>\n",
       "      <td>0.600636</td>\n",
       "      <td>10.6</td>\n",
       "      <td>80.0</td>\n",
       "      <td>0.533095</td>\n",
       "      <td>0.652361</td>\n",
       "      <td>0.585583</td>\n",
       "      <td>0.700238</td>\n",
       "      <td>0.4540</td>\n",
       "      <td>49.5</td>\n",
       "    </tr>\n",
       "    <tr>\n",
       "      <th>0.014286</th>\n",
       "      <td>549.5</td>\n",
       "      <td>0.590818</td>\n",
       "      <td>10.6</td>\n",
       "      <td>70.0</td>\n",
       "      <td>0.510194</td>\n",
       "      <td>0.659209</td>\n",
       "      <td>0.582929</td>\n",
       "      <td>0.668810</td>\n",
       "      <td>0.4725</td>\n",
       "      <td>49.5</td>\n",
       "    </tr>\n",
       "    <tr>\n",
       "      <th>0.016667</th>\n",
       "      <td>449.5</td>\n",
       "      <td>0.592727</td>\n",
       "      <td>10.6</td>\n",
       "      <td>60.0</td>\n",
       "      <td>0.506274</td>\n",
       "      <td>0.655368</td>\n",
       "      <td>0.596679</td>\n",
       "      <td>0.680000</td>\n",
       "      <td>0.4640</td>\n",
       "      <td>49.5</td>\n",
       "    </tr>\n",
       "    <tr>\n",
       "      <th>0.020000</th>\n",
       "      <td>349.5</td>\n",
       "      <td>0.596455</td>\n",
       "      <td>10.6</td>\n",
       "      <td>50.0</td>\n",
       "      <td>0.499917</td>\n",
       "      <td>0.661548</td>\n",
       "      <td>0.594679</td>\n",
       "      <td>0.677143</td>\n",
       "      <td>0.4855</td>\n",
       "      <td>49.5</td>\n",
       "    </tr>\n",
       "    <tr>\n",
       "      <th>0.025000</th>\n",
       "      <td>249.5</td>\n",
       "      <td>0.546000</td>\n",
       "      <td>10.6</td>\n",
       "      <td>40.0</td>\n",
       "      <td>0.461821</td>\n",
       "      <td>0.611607</td>\n",
       "      <td>0.548923</td>\n",
       "      <td>0.605000</td>\n",
       "      <td>0.4650</td>\n",
       "      <td>49.5</td>\n",
       "    </tr>\n",
       "    <tr>\n",
       "      <th>0.033333</th>\n",
       "      <td>149.5</td>\n",
       "      <td>0.568182</td>\n",
       "      <td>10.6</td>\n",
       "      <td>30.0</td>\n",
       "      <td>0.490905</td>\n",
       "      <td>0.641234</td>\n",
       "      <td>0.545792</td>\n",
       "      <td>0.617619</td>\n",
       "      <td>0.4900</td>\n",
       "      <td>49.5</td>\n",
       "    </tr>\n",
       "    <tr>\n",
       "      <th>0.050000</th>\n",
       "      <td>49.5</td>\n",
       "      <td>0.534818</td>\n",
       "      <td>10.6</td>\n",
       "      <td>20.0</td>\n",
       "      <td>0.440694</td>\n",
       "      <td>0.617206</td>\n",
       "      <td>0.540286</td>\n",
       "      <td>0.591429</td>\n",
       "      <td>0.4535</td>\n",
       "      <td>49.5</td>\n",
       "    </tr>\n",
       "  </tbody>\n",
       "</table>\n",
       "</div>"
      ],
      "text/plain": [
       "           Unnamed: 0  accuracy  n_test  n_train       npv  precision  \\\n",
       "1/n_train                                                               \n",
       "0.011111        749.5  0.623727    10.6     90.0  0.571619   0.667448   \n",
       "0.012500        649.5  0.600636    10.6     80.0  0.533095   0.652361   \n",
       "0.014286        549.5  0.590818    10.6     70.0  0.510194   0.659209   \n",
       "0.016667        449.5  0.592727    10.6     60.0  0.506274   0.655368   \n",
       "0.020000        349.5  0.596455    10.6     50.0  0.499917   0.661548   \n",
       "0.025000        249.5  0.546000    10.6     40.0  0.461821   0.611607   \n",
       "0.033333        149.5  0.568182    10.6     30.0  0.490905   0.641234   \n",
       "0.050000         49.5  0.534818    10.6     20.0  0.440694   0.617206   \n",
       "\n",
       "            roc_auc  sensitivity  specificity  split  \n",
       "1/n_train                                             \n",
       "0.011111   0.605077     0.735238       0.4575   49.5  \n",
       "0.012500   0.585583     0.700238       0.4540   49.5  \n",
       "0.014286   0.582929     0.668810       0.4725   49.5  \n",
       "0.016667   0.596679     0.680000       0.4640   49.5  \n",
       "0.020000   0.594679     0.677143       0.4855   49.5  \n",
       "0.025000   0.548923     0.605000       0.4650   49.5  \n",
       "0.033333   0.545792     0.617619       0.4900   49.5  \n",
       "0.050000   0.540286     0.591429       0.4535   49.5  "
      ]
     },
     "execution_count": 4,
     "metadata": {},
     "output_type": "execute_result"
    }
   ],
   "source": [
    "df_plot.groupby(\"1/n_train\").mean()"
   ]
  },
  {
   "cell_type": "code",
   "execution_count": 5,
   "metadata": {},
   "outputs": [],
   "source": [
    "linear_model = np.polyfit(df_plot[\"1/n_train\"].values,\n",
    "                          df_plot[\"roc_auc\"].values, 1)\n",
    "linear_model_fn = np.poly1d(linear_model)\n"
   ]
  },
  {
   "cell_type": "code",
   "execution_count": 6,
   "metadata": {},
   "outputs": [
    {
     "data": {
      "text/plain": [
       "0.4465388836650761"
      ]
     },
     "execution_count": 6,
     "metadata": {},
     "output_type": "execute_result"
    }
   ],
   "source": [
    "linear_model_fn(1/10)"
   ]
  },
  {
   "cell_type": "code",
   "execution_count": 7,
   "metadata": {},
   "outputs": [
    {
     "data": {
      "text/plain": [
       "array([-1.66525696,  0.61306458])"
      ]
     },
     "execution_count": 7,
     "metadata": {},
     "output_type": "execute_result"
    }
   ],
   "source": [
    "linear_model"
   ]
  },
  {
   "cell_type": "code",
   "execution_count": 8,
   "metadata": {},
   "outputs": [
    {
     "data": {
      "text/plain": [
       "<AxesSubplot:xlabel='1/n_train', ylabel='roc_auc'>"
      ]
     },
     "execution_count": 8,
     "metadata": {},
     "output_type": "execute_result"
    },
    {
     "data": {
      "image/png": "[encoded data removed]",
      "text/plain": [
       "<Figure size 432x288 with 1 Axes>"
      ]
     },
     "metadata": {
      "needs_background": "light"
     },
     "output_type": "display_data"
    }
   ],
   "source": [
    "sns.violinplot(x=\"1/n_train\", y=\"roc_auc\", data=df_plot)"
   ]
  },
  {
   "cell_type": "code",
   "execution_count": 9,
   "metadata": {},
   "outputs": [],
   "source": [
    "df_fcounts = pd.read_csv(\"../results/radiomics/rkf_results/light_feature_counts.csv\")"
   ]
  },
  {
   "cell_type": "code",
   "execution_count": 10,
   "metadata": {},
   "outputs": [
    {
     "data": {
      "text/html": [
       "<div>\n",
       "<style scoped>\n",
       "    .dataframe tbody tr th:only-of-type {\n",
       "        vertical-align: middle;\n",
       "    }\n",
       "\n",
       "    .dataframe tbody tr th {\n",
       "        vertical-align: top;\n",
       "    }\n",
       "\n",
       "    .dataframe thead th {\n",
       "        text-align: right;\n",
       "    }\n",
       "</style>\n",
       "<table border=\"1\" class=\"dataframe\">\n",
       "  <thead>\n",
       "    <tr style=\"text-align: right;\">\n",
       "      <th></th>\n",
       "      <th>feature_name</th>\n",
       "      <th>feature_count</th>\n",
       "      <th>modality</th>\n",
       "      <th>voi</th>\n",
       "    </tr>\n",
       "  </thead>\n",
       "  <tbody>\n",
       "    <tr>\n",
       "      <th>421</th>\n",
       "      <td>log-sigma-5-0-mm-3D_firstorder_Minimum</td>\n",
       "      <td>1.0</td>\n",
       "      <td>PT</td>\n",
       "      <td>GTV_L</td>\n",
       "    </tr>\n",
       "    <tr>\n",
       "      <th>439</th>\n",
       "      <td>original_glcm_Correlation</td>\n",
       "      <td>1.0</td>\n",
       "      <td>PT</td>\n",
       "      <td>GTV_L</td>\n",
       "    </tr>\n",
       "    <tr>\n",
       "      <th>442</th>\n",
       "      <td>original_glcm_DifferenceVariance</td>\n",
       "      <td>5.0</td>\n",
       "      <td>PT</td>\n",
       "      <td>GTV_L</td>\n",
       "    </tr>\n",
       "    <tr>\n",
       "      <th>419</th>\n",
       "      <td>log-sigma-5-0-mm-3D_firstorder_Maximum</td>\n",
       "      <td>6.0</td>\n",
       "      <td>PT</td>\n",
       "      <td>GTV_L</td>\n",
       "    </tr>\n",
       "    <tr>\n",
       "      <th>424</th>\n",
       "      <td>log-sigma-5-0-mm-3D_firstorder_Variance</td>\n",
       "      <td>9.0</td>\n",
       "      <td>PT</td>\n",
       "      <td>GTV_L</td>\n",
       "    </tr>\n",
       "    <tr>\n",
       "      <th>422</th>\n",
       "      <td>log-sigma-5-0-mm-3D_firstorder_RobustMeanAbsol...</td>\n",
       "      <td>16.0</td>\n",
       "      <td>PT</td>\n",
       "      <td>GTV_L</td>\n",
       "    </tr>\n",
       "    <tr>\n",
       "      <th>430</th>\n",
       "      <td>original_firstorder_Minimum</td>\n",
       "      <td>32.0</td>\n",
       "      <td>PT</td>\n",
       "      <td>GTV_L</td>\n",
       "    </tr>\n",
       "    <tr>\n",
       "      <th>428</th>\n",
       "      <td>original_firstorder_Maximum</td>\n",
       "      <td>38.0</td>\n",
       "      <td>PT</td>\n",
       "      <td>GTV_L</td>\n",
       "    </tr>\n",
       "    <tr>\n",
       "      <th>454</th>\n",
       "      <td>original_glcm_SumEntropy</td>\n",
       "      <td>100.0</td>\n",
       "      <td>PT</td>\n",
       "      <td>GTV_L</td>\n",
       "    </tr>\n",
       "  </tbody>\n",
       "</table>\n",
       "</div>"
      ],
      "text/plain": [
       "                                          feature_name  feature_count  \\\n",
       "421             log-sigma-5-0-mm-3D_firstorder_Minimum            1.0   \n",
       "439                          original_glcm_Correlation            1.0   \n",
       "442                   original_glcm_DifferenceVariance            5.0   \n",
       "419             log-sigma-5-0-mm-3D_firstorder_Maximum            6.0   \n",
       "424            log-sigma-5-0-mm-3D_firstorder_Variance            9.0   \n",
       "422  log-sigma-5-0-mm-3D_firstorder_RobustMeanAbsol...           16.0   \n",
       "430                        original_firstorder_Minimum           32.0   \n",
       "428                        original_firstorder_Maximum           38.0   \n",
       "454                           original_glcm_SumEntropy          100.0   \n",
       "\n",
       "    modality    voi  \n",
       "421       PT  GTV_L  \n",
       "439       PT  GTV_L  \n",
       "442       PT  GTV_L  \n",
       "419       PT  GTV_L  \n",
       "424       PT  GTV_L  \n",
       "422       PT  GTV_L  \n",
       "430       PT  GTV_L  \n",
       "428       PT  GTV_L  \n",
       "454       PT  GTV_L  "
      ]
     },
     "execution_count": 10,
     "metadata": {},
     "output_type": "execute_result"
    }
   ],
   "source": [
    "df_f_hist = df_fcounts[(df_fcounts[\"modality\"] == \"PT\")\n",
    "                       & (df_fcounts[\"voi\"] == \"GTV_L\") &\n",
    "                       (df_fcounts[\"feature_count\"] != 0.0)].sort_values(\n",
    "                           by=\"feature_count\")\n",
    "df_f_hist.drop([\"Unnamed: 0\"], axis=1)"
   ]
  },
  {
   "cell_type": "code",
   "execution_count": 11,
   "metadata": {},
   "outputs": [
    {
     "data": {
      "text/plain": [
       "Unnamed: 0     149.500000\n",
       "accuracy         0.750909\n",
       "n_test          10.500000\n",
       "n_train         94.500000\n",
       "npv              0.734119\n",
       "precision        0.783868\n",
       "roc_auc          0.819940\n",
       "sensitivity      0.827619\n",
       "specificity      0.630500\n",
       "split           49.500000\n",
       "dtype: float64"
      ]
     },
     "execution_count": 11,
     "metadata": {},
     "output_type": "execute_result"
    }
   ],
   "source": [
    "df[(df[\"modality\"] == \"CT\") & (df[\"voi\"] == \"GTV_L\")].mean()"
   ]
  },
  {
   "cell_type": "code",
   "execution_count": 12,
   "metadata": {},
   "outputs": [
    {
     "data": {
      "text/plain": [
       "Unnamed: 0    NaN\n",
       "accuracy      NaN\n",
       "n_test        NaN\n",
       "n_train       NaN\n",
       "npv           NaN\n",
       "precision     NaN\n",
       "roc_auc       NaN\n",
       "sensitivity   NaN\n",
       "specificity   NaN\n",
       "split         NaN\n",
       "modality      NaN\n",
       "voi           NaN\n",
       "dtype: float64"
      ]
     },
     "execution_count": 12,
     "metadata": {},
     "output_type": "execute_result"
    }
   ],
   "source": [
    "df[(df[\"modality\"] == \"PET/CT\") & (df[\"voi\"] == \"GTV_L\")].mean()"
   ]
  },
  {
   "cell_type": "code",
   "execution_count": 13,
   "metadata": {},
   "outputs": [],
   "source": [
    "df = pd.concat([df, df_fusion], axis=0)"
   ]
  },
  {
   "cell_type": "code",
   "execution_count": 14,
   "metadata": {},
   "outputs": [
    {
     "data": {
      "text/plain": [
       "Unnamed: 0     549.500000\n",
       "accuracy         0.799636\n",
       "n_test          10.500000\n",
       "n_train         94.500000\n",
       "npv              0.808095\n",
       "precision        0.829238\n",
       "roc_auc          0.840798\n",
       "sensitivity      0.861190\n",
       "specificity      0.702500\n",
       "split           49.500000\n",
       "dtype: float64"
      ]
     },
     "execution_count": 14,
     "metadata": {},
     "output_type": "execute_result"
    }
   ],
   "source": [
    "df[(df[\"modality\"] == \"PT\") & (df[\"voi\"] == \"GTV_L\")].mean()\n"
   ]
  },
  {
   "cell_type": "code",
   "execution_count": 15,
   "metadata": {},
   "outputs": [],
   "source": [
    "df_dummy[\"modality\"] = \"random\"\n",
    "df_dummy[\"voi\"] = df_dummy[\"strategy\"].map(lambda x: \"most_frequent\" if x==\"prior\" else x)"
   ]
  },
  {
   "cell_type": "code",
   "execution_count": 16,
   "metadata": {},
   "outputs": [],
   "source": [
    "df_tot = pd.concat([df, df_dummy[df_dummy[\"voi\"]!=\"most_frequent\"], df_suvmax], axis=0)"
   ]
  },
  {
   "cell_type": "code",
   "execution_count": 17,
   "metadata": {},
   "outputs": [
    {
     "data": {
      "text/plain": [
       "Unnamed: 0     49.500000\n",
       "accuracy        0.766364\n",
       "n_test         10.500000\n",
       "n_train        94.500000\n",
       "npv             0.758262\n",
       "precision       0.801607\n",
       "roc_auc         0.808929\n",
       "sensitivity     0.833095\n",
       "specificity     0.662500\n",
       "split          49.500000\n",
       "strategy             NaN\n",
       "dtype: float64"
      ]
     },
     "execution_count": 17,
     "metadata": {},
     "output_type": "execute_result"
    }
   ],
   "source": [
    "df_tot[(df_tot[\"modality\"] == \"SUVmax\") & (df_tot[\"voi\"] == \"GTV_L\")].mean()"
   ]
  },
  {
   "cell_type": "code",
   "execution_count": 18,
   "metadata": {},
   "outputs": [
    {
     "data": {
      "image/png": "[encoded data removed]",
      "text/plain": [
       "<Figure size 458.35x360 with 1 Axes>"
      ]
     },
     "metadata": {},
     "output_type": "display_data"
    }
   ],
   "source": [
    "sns.set(rc={\"figure.figsize\":(18, 18)}) #width=8, height=4\n",
    "ax = sns.catplot(x=\"modality\", y=\"roc_auc\", hue=\"voi\", data=df, kind=\"box\", palette=\"magma\", width=0.5)\n",
    "plt.savefig(\"/home/valentin/python_wkspce/plc_segmentation/reports/figures/results_ptct.png\")"
   ]
  },
  {
   "cell_type": "code",
   "execution_count": 20,
   "metadata": {},
   "outputs": [
    {
     "data": {
      "text/plain": [
       "Unnamed: 0     149.500000\n",
       "accuracy         0.781000\n",
       "n_test          10.500000\n",
       "n_train         94.500000\n",
       "npv              0.770548\n",
       "precision        0.814409\n",
       "roc_auc          0.843464\n",
       "sensitivity      0.845714\n",
       "specificity      0.679500\n",
       "split           49.500000\n",
       "dtype: float64"
      ]
     },
     "execution_count": 20,
     "metadata": {},
     "output_type": "execute_result"
    }
   ],
   "source": [
    "df[(df[\"modality\"]==\"PET/CT\")&(df[\"voi\"]==\"GTV_L\")].mean()"
   ]
  },
  {
   "cell_type": "code",
   "execution_count": 21,
   "metadata": {},
   "outputs": [
    {
     "data": {
      "image/png": "[encoded data removed]",
      "text/plain": [
       "<Figure size 493.85x360 with 1 Axes>"
      ]
     },
     "metadata": {},
     "output_type": "display_data"
    }
   ],
   "source": [
    "sns.set(rc={\"figure.figsize\":(8, 9)}) #width=8, height=4\n",
    "ax = sns.catplot(x=\"modality\", y=\"roc_auc\", hue=\"voi\", data=df_tot, kind=\"box\", palette=\"magma\", width=1.0)"
   ]
  },
  {
   "cell_type": "code",
   "execution_count": 22,
   "metadata": {},
   "outputs": [
    {
     "data": {
      "text/plain": [
       "Unnamed: 0     249.500000\n",
       "accuracy         0.503091\n",
       "n_test          10.600000\n",
       "n_train         95.400000\n",
       "npv              0.303286\n",
       "precision        0.581054\n",
       "roc_auc          0.449869\n",
       "sensitivity      0.655714\n",
       "specificity      0.263500\n",
       "split           49.500000\n",
       "dtype: float64"
      ]
     },
     "execution_count": 22,
     "metadata": {},
     "output_type": "execute_result"
    }
   ],
   "source": [
    "df_tot[df_tot[\"voi\"]==\"random_features\"].mean()"
   ]
  },
  {
   "cell_type": "code",
   "execution_count": 23,
   "metadata": {},
   "outputs": [
    {
     "data": {
      "text/plain": [
       "array(['CT', 'PT', 'PET/CT', 'random', 'SUVmax'], dtype=object)"
      ]
     },
     "execution_count": 23,
     "metadata": {},
     "output_type": "execute_result"
    }
   ],
   "source": [
    "df_tot[\"modality\"].unique()"
   ]
  },
  {
   "cell_type": "code",
   "execution_count": 24,
   "metadata": {},
   "outputs": [],
   "source": [
    "df_catplot = df_tot[df_tot[\"modality\"].isin([\"CT\"])]\n",
    "translate_voi = {\n",
    "    \"GTV_L\": \"VOI L\",\n",
    "    \"GTV_T\": \"VOI T\",\n",
    "    \"GTV_N\": \"VOI N\",\n",
    "}\n",
    "# df_catplot[\"voi\"] = df_catplot[\"voi\"].map(lambda x: translate_voi[x])"
   ]
  },
  {
   "cell_type": "code",
   "execution_count": 25,
   "metadata": {},
   "outputs": [],
   "source": [
    "from matplotlib.markers import TICKDOWN\n",
    "\n",
    "\n",
    "def significance_bar(start,\n",
    "                     end,\n",
    "                     height,\n",
    "                     displaystring,\n",
    "                     linewidth=1.2,\n",
    "                     markersize=8,\n",
    "                     boxpad=0.3,\n",
    "                     fontsize=15,\n",
    "                     color='k'):\n",
    "    # draw a line with downticks at the ends\n",
    "    plt.plot(\n",
    "        [start, end],\n",
    "        [height] * 2,\n",
    "        '-',\n",
    "        color=color,\n",
    "        lw=linewidth,\n",
    "        marker=TICKDOWN,\n",
    "        markeredgewidth=linewidth,\n",
    "        markersize=markersize,\n",
    "        clip_on=False,\n",
    "    )\n",
    "    # draw the text with a bounding box covering up the line\n",
    "    plt.text(0.5 * (start + end),\n",
    "             height,\n",
    "             displaystring,\n",
    "             ha='center',\n",
    "             va='center',\n",
    "             bbox=dict(facecolor='1.',\n",
    "                       edgecolor='none',\n",
    "                       boxstyle='Square,pad=' + str(boxpad)),\n",
    "             size=fontsize)\n"
   ]
  },
  {
   "cell_type": "code",
   "execution_count": 26,
   "metadata": {},
   "outputs": [
    {
     "data": {
      "image/png": "[encoded data removed]",
      "text/plain": [
       "<Figure size 432x288 with 1 Axes>"
      ]
     },
     "metadata": {},
     "output_type": "display_data"
    }
   ],
   "source": [
    "sns.set_style(\"whitegrid\")\n",
    "g = sns.catplot(x=\"voi\",\n",
    "                y=\"roc_auc\",\n",
    "                data=df_catplot,\n",
    "                kind=\"box\",\n",
    "                fliersize=0.0,\n",
    "                width=0.25,\n",
    "                height=4,\n",
    "                aspect=1.5)\n",
    "g = sns.stripplot(x=\"voi\", y=\"roc_auc\", data=df_catplot, color=\"0.3\")\n",
    "g.set(ylabel='ROC AUC', xlabel='')\n",
    "g.set_yticks(ticks=[0.1*k for k in range(11)])\n",
    "g.set(ylim=(0.0, 1.05))\n",
    "# plt.plot([1,2],[1.1,1.1], '|-k')\n",
    "significance_bar(0,\n",
    "                 1,\n",
    "                 1.1,\n",
    "                 \"*\",\n",
    "                 linewidth=1.2,\n",
    "                 markersize=8,\n",
    "                 boxpad=0.3,\n",
    "                 fontsize=15,\n",
    "                 color='k')\n",
    "significance_bar(0,\n",
    "                 2,\n",
    "                 1.2,\n",
    "                 \"**\",\n",
    "                 linewidth=1.2,\n",
    "                 markersize=8,\n",
    "                 boxpad=0.3,\n",
    "                 fontsize=15,\n",
    "                 color='k')\n",
    "plt.savefig(\"petct_auc.png\", dpi=200, bbox_inches=\"tight\")"
   ]
  },
  {
   "cell_type": "code",
   "execution_count": 27,
   "metadata": {},
   "outputs": [],
   "source": [
    "df_catplot = df_tot[df_tot[\"voi\"]==\"GTV_L\"]\n",
    "translate_modality = {\n",
    "    \"PT\": \"PET\",\n",
    "    \"PET/CT\": \"PET/CT\",\n",
    "    \"CT\": \"CT\",\n",
    "    \"SUVmax\": \"SUV$_{max}$\",\n",
    "}\n",
    "# df_catplot[\"modality\"] = df_catplot[\"modality\"].map(lambda x: translate_modality[x])"
   ]
  },
  {
   "cell_type": "code",
   "execution_count": 28,
   "metadata": {},
   "outputs": [
    {
     "data": {
      "image/png": "[encoded data removed]",
      "text/plain": [
       "<Figure size 432x288 with 1 Axes>"
      ]
     },
     "metadata": {},
     "output_type": "display_data"
    }
   ],
   "source": [
    "sns.set_style(\"whitegrid\")\n",
    "g = sns.catplot(x=\"modality\",\n",
    "                y=\"roc_auc\",\n",
    "                data=df_catplot,\n",
    "                kind=\"box\",\n",
    "                fliersize=0.0,\n",
    "                width=0.25,\n",
    "                height=4,\n",
    "                aspect=1.5)\n",
    "g = sns.stripplot(x=\"modality\", y=\"roc_auc\", data=df_catplot, color=\"0.3\", size=3.5)\n",
    "g.set(ylabel='ROC AUC', xlabel='')\n",
    "g.set_yticks(ticks=[0.1*k for k in range(11)])\n",
    "g.set(ylim=(0.0, 1.05))\n",
    "# plt.plot([1,2],[1.1,1.1], '|-k')\n",
    "\n",
    "plt.savefig(\"gtvl_auc.png\", dpi=200, bbox_inches=\"tight\")"
   ]
  },
  {
   "cell_type": "code",
   "execution_count": 29,
   "metadata": {},
   "outputs": [
    {
     "data": {
      "text/plain": [
       "Index(['Unnamed: 0', 'accuracy', 'n_test', 'n_train', 'npv', 'precision',\n",
       "       'roc_auc', 'sensitivity', 'specificity', 'split', 'modality', 'voi',\n",
       "       'strategy'],\n",
       "      dtype='object')"
      ]
     },
     "execution_count": 29,
     "metadata": {},
     "output_type": "execute_result"
    }
   ],
   "source": [
    "df_tot.columns"
   ]
  },
  {
   "cell_type": "code",
   "execution_count": 33,
   "metadata": {},
   "outputs": [],
   "source": [
    "s1 = df_tot.loc[(df_tot[\"modality\"]==\"PET/CT\") & (df_tot[\"voi\"]==\"GTV_L\"), \"roc_auc\"].values\n",
    "s2 = df_tot.loc[(df_tot[\"modality\"]==\"SUVmax\") & (df_tot[\"voi\"]==\"GTV_L\"), \"roc_auc\"].values"
   ]
  },
  {
   "cell_type": "code",
   "execution_count": 34,
   "metadata": {},
   "outputs": [],
   "source": [
    "n_train = df_tot.loc[(df_tot[\"modality\"]==\"CT\") & (df_tot[\"voi\"]==\"GTV_L\"), \"n_train\"].mean()\n",
    "n_test = df_tot.loc[(df_tot[\"modality\"]==\"CT\") & (df_tot[\"voi\"]==\"GTV_L\"), \"n_test\"].mean()"
   ]
  },
  {
   "cell_type": "code",
   "execution_count": 35,
   "metadata": {},
   "outputs": [
    {
     "name": "stdout",
     "output_type": "stream",
     "text": [
      "{'t_stat': 0.8025980073897329, 'p_value': 0.21206483999947773, 'proba M1 > M2': 0.7150835684114809, 'proba M1 == M2': 0.1333199095929502, 'proba M1 < M2': 0.1515965219955689}\n"
     ]
    }
   ],
   "source": [
    "s = compare_score(s1, s2, n_train, n_test)\n",
    "print(s)"
   ]
  },
  {
   "cell_type": "code",
   "execution_count": 36,
   "metadata": {},
   "outputs": [
    {
     "data": {
      "text/plain": [
       "0.8434642857142859"
      ]
     },
     "execution_count": 36,
     "metadata": {},
     "output_type": "execute_result"
    }
   ],
   "source": [
    "np.mean(s1)"
   ]
  },
  {
   "cell_type": "code",
   "execution_count": 37,
   "metadata": {},
   "outputs": [
    {
     "data": {
      "text/plain": [
       "(0.7611923214442042, 0.9257362499843675)"
      ]
     },
     "execution_count": 37,
     "metadata": {},
     "output_type": "execute_result"
    }
   ],
   "source": [
    "corrected_ci(s1, n_train, n_test)\n"
   ]
  },
  {
   "cell_type": "code",
   "execution_count": null,
   "metadata": {},
   "outputs": [],
   "source": [
    "df.columns"
   ]
  },
  {
   "cell_type": "code",
   "execution_count": null,
   "metadata": {},
   "outputs": [],
   "source": [
    "def extract_score(modality, voi, df, score):\n",
    "    return df.loc[(df[\"modality\"] == modality) & (df_tot[\"voi\"] == voi),\n",
    "                  score].values\n",
    "\n",
    "\n",
    "scores = [\n",
    "    'roc_auc',\n",
    "    'accuracy',\n",
    "    'sensitivity',\n",
    "    'specificity',\n",
    "    'precision',\n",
    "    'npv',\n",
    "]\n",
    "\n",
    "\n",
    "def print_results(modality, voi, df):\n",
    "    for score in scores:\n",
    "        s = extract_score(modality, voi, df, score)\n",
    "        ci = corrected_ci(s, n_train, n_test)\n",
    "        print(f\"{score} : {np.mean(s):.4f} ({ci[0]:.4f} - {ci[1]:.4f})\", )\n"
   ]
  },
  {
   "cell_type": "code",
   "execution_count": null,
   "metadata": {},
   "outputs": [],
   "source": [
    "print_results(\"SUVmax\", \"GTV_N\", df_tot)"
   ]
  },
  {
   "cell_type": "code",
   "execution_count": null,
   "metadata": {},
   "outputs": [],
   "source": [
    "# s2 = df_dummy.loc[df_dummy[\"strategy\"]==\"center\", \"roc_auc\"].values\n",
    "# s2 = df_dummy.loc[df_dummy[\"strategy\"]==\"random_features\", \"roc_auc\"].values"
   ]
  },
  {
   "cell_type": "code",
   "execution_count": null,
   "metadata": {},
   "outputs": [],
   "source": [
    "np.mean(s2)"
   ]
  },
  {
   "cell_type": "code",
   "execution_count": null,
   "metadata": {},
   "outputs": [],
   "source": [
    "print(s)"
   ]
  },
  {
   "cell_type": "code",
   "execution_count": null,
   "metadata": {},
   "outputs": [],
   "source": [
    "s[\"p_value\"] + s[\"proba M1 > M2\"]"
   ]
  },
  {
   "cell_type": "code",
   "execution_count": null,
   "metadata": {},
   "outputs": [],
   "source": []
  }
 ],
 "metadata": {
  "interpreter": {
   "hash": "26794336849f69f1a455c7b9076cea9e2673f8b3db6968d6e62389984b0c1cbc"
  },
  "kernelspec": {
   "display_name": "Python 3.6.9 64-bit ('env': virtualenv)",
   "language": "python",
   "name": "python3"
  },
  "language_info": {
   "codemirror_mode": {
    "name": "ipython",
    "version": 3
   },
   "file_extension": ".py",
   "mimetype": "text/x-python",
   "name": "python",
   "nbconvert_exporter": "python",
   "pygments_lexer": "ipython3",
   "version": "3.6.9"
  },
  "orig_nbformat": 4
 },
 "nbformat": 4,
 "nbformat_minor": 2
}
