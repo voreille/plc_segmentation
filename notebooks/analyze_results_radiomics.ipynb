{
 "cells": [
  {
   "cell_type": "code",
   "execution_count": null,
   "metadata": {},
   "outputs": [],
   "source": [
    "import numpy as np\n",
    "import pandas as pd\n",
    "from scipy.stats import t\n",
    "import seaborn as sns\n",
    "import matplotlib.pyplot as plt\n",
    "\n",
    "from src.statistics.stats import compare_score"
   ]
  },
  {
   "cell_type": "code",
   "execution_count": null,
   "metadata": {},
   "outputs": [],
   "source": [
    "df = pd.read_csv(\"../results/radiomics/rkf_results/light.csv\")\n",
    "df_combat = pd.read_csv(\"../results/radiomics/rkf_results/light_combat.csv\")\n",
    "df_fusion = pd.read_csv(\"../results/radiomics/rkf_results/light_fusion.csv\")\n",
    "df_fusion[\"modality\"] = \"PET/CT\"\n",
    "df_dummy = pd.read_csv(\"../results/radiomics/rkf_results/dummy.csv\")\n",
    "df_suvmax = pd.read_csv(\"../results/radiomics/rkf_results/suvmax.csv\")"
   ]
  },
  {
   "cell_type": "code",
   "execution_count": null,
   "metadata": {},
   "outputs": [],
   "source": [
    "df_combat[(df_combat[\"modality\"] == \"CT\") & (df_combat[\"voi\"] == \"GTV_N\")].mean()"
   ]
  },
  {
   "cell_type": "code",
   "execution_count": null,
   "metadata": {},
   "outputs": [],
   "source": [
    "df = pd.concat([df, df_fusion], axis=0)"
   ]
  },
  {
   "cell_type": "code",
   "execution_count": null,
   "metadata": {},
   "outputs": [],
   "source": [
    "df[(df[\"modality\"] == \"CT\") & (df[\"voi\"] == \"GTV_N\")].mean()\n"
   ]
  },
  {
   "cell_type": "code",
   "execution_count": null,
   "metadata": {},
   "outputs": [],
   "source": [
    "df_dummy[\"modality\"] = \"random\"\n",
    "df_dummy[\"voi\"] = df_dummy[\"strategy\"].map(lambda x: \"most_frequent\" if x==\"prior\" else x)"
   ]
  },
  {
   "cell_type": "code",
   "execution_count": null,
   "metadata": {},
   "outputs": [],
   "source": [
    "df_suvmax[\"modality\"] = \"SUVmax\"\n",
    "df_suvmax[\"voi\"] = df_suvmax[\"strategy\"]"
   ]
  },
  {
   "cell_type": "code",
   "execution_count": null,
   "metadata": {},
   "outputs": [],
   "source": [
    "df_tot = pd.concat([df, df_dummy[df_dummy[\"voi\"]!=\"most_frequent\"], df_suvmax], axis=0)"
   ]
  },
  {
   "cell_type": "code",
   "execution_count": null,
   "metadata": {},
   "outputs": [],
   "source": [
    "df_tot"
   ]
  },
  {
   "cell_type": "code",
   "execution_count": null,
   "metadata": {},
   "outputs": [],
   "source": [
    "sns.set(rc={\"figure.figsize\":(18, 18)}) #width=8, height=4\n",
    "ax = sns.catplot(x=\"modality\", y=\"roc_auc\", hue=\"voi\", data=df, kind=\"box\", palette=\"magma\", width=0.5)\n",
    "plt.savefig(\"/home/valentin/python_wkspce/plc_segmentation/reports/figures/results_ptct.png\")"
   ]
  },
  {
   "cell_type": "code",
   "execution_count": null,
   "metadata": {},
   "outputs": [],
   "source": [
    "df[(df[\"modality\"]==\"PET/CT\")&(df[\"voi\"]==\"GTV_L\")].mean()"
   ]
  },
  {
   "cell_type": "code",
   "execution_count": null,
   "metadata": {},
   "outputs": [],
   "source": [
    "sns.set(rc={\"figure.figsize\":(8, 9)}) #width=8, height=4\n",
    "ax = sns.catplot(x=\"modality\", y=\"roc_auc\", hue=\"voi\", data=df_tot, kind=\"box\", palette=\"magma\", width=1.0)"
   ]
  },
  {
   "cell_type": "code",
   "execution_count": null,
   "metadata": {},
   "outputs": [],
   "source": [
    "df_tot[df_tot[\"voi\"]==\"random_features\"].mean()"
   ]
  },
  {
   "cell_type": "code",
   "execution_count": null,
   "metadata": {},
   "outputs": [],
   "source": [
    "ax = sns.barplot(x=\"modality\", y=\"roc_auc\", hue=\"voi\", data=df, ci=\"sd\")"
   ]
  },
  {
   "cell_type": "code",
   "execution_count": null,
   "metadata": {},
   "outputs": [],
   "source": [
    "df_dummy"
   ]
  },
  {
   "cell_type": "code",
   "execution_count": null,
   "metadata": {},
   "outputs": [],
   "source": [
    "s1 = df.loc[(df[\"modality\"]==\"PT\") & (df[\"voi\"]==\"GTV_N\"), \"roc_auc\"].values\n",
    "# s2 = df.loc[(df[\"modality\"]==\"CT\") & (df[\"voi\"]==\"GTV_L\"), \"roc_auc\"].values"
   ]
  },
  {
   "cell_type": "code",
   "execution_count": null,
   "metadata": {},
   "outputs": [],
   "source": [
    "s1 = df_dummy.loc[df_dummy[\"strategy\"]==\"center\", \"roc_auc\"].values\n",
    "s2 = df_dummy.loc[df_dummy[\"strategy\"]==\"random_features\", \"roc_auc\"].values"
   ]
  },
  {
   "cell_type": "code",
   "execution_count": null,
   "metadata": {},
   "outputs": [],
   "source": [
    "s = compare_score(s1, s2, 95, 11)"
   ]
  },
  {
   "cell_type": "code",
   "execution_count": null,
   "metadata": {},
   "outputs": [],
   "source": [
    "print(s)"
   ]
  },
  {
   "cell_type": "code",
   "execution_count": null,
   "metadata": {},
   "outputs": [],
   "source": [
    "s[\"p_value\"] + s[\"proba M1 > M2\"]"
   ]
  },
  {
   "cell_type": "code",
   "execution_count": null,
   "metadata": {},
   "outputs": [],
   "source": []
  }
 ],
 "metadata": {
  "interpreter": {
   "hash": "26794336849f69f1a455c7b9076cea9e2673f8b3db6968d6e62389984b0c1cbc"
  },
  "kernelspec": {
   "display_name": "Python 3.6.9 64-bit ('env': virtualenv)",
   "language": "python",
   "name": "python3"
  },
  "language_info": {
   "codemirror_mode": {
    "name": "ipython",
    "version": 3
   },
   "file_extension": ".py",
   "mimetype": "text/x-python",
   "name": "python",
   "nbconvert_exporter": "python",
   "pygments_lexer": "ipython3",
   "version": "3.6.9"
  },
  "orig_nbformat": 4
 },
 "nbformat": 4,
 "nbformat_minor": 2
}
