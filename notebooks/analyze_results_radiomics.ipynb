{
 "cells": [
  {
   "cell_type": "code",
   "execution_count": 1,
   "metadata": {},
   "outputs": [
    {
     "name": "stderr",
     "output_type": "stream",
     "text": [
      "/home/valentin/python_wkspce/plc_segmentation/env/lib/python3.6/importlib/_bootstrap.py:219: RuntimeWarning: numpy.ufunc size changed, may indicate binary incompatibility. Expected 192 from C header, got 216 from PyObject\n",
      "  return f(*args, **kwds)\n"
     ]
    }
   ],
   "source": [
    "import numpy as np\n",
    "import pandas as pd\n",
    "from scipy.stats import t\n",
    "import seaborn as sns\n",
    "import matplotlib.pyplot as plt\n",
    "\n",
    "from src.statistics.stats import compare_score, corrected_ci"
   ]
  },
  {
   "cell_type": "code",
   "execution_count": 2,
   "metadata": {},
   "outputs": [],
   "source": [
    "df = pd.read_csv(\"../results/radiomics/rkf_results/light.csv\")\n",
    "df_combat = pd.read_csv(\"../results/radiomics/rkf_results/light_combat.csv\")\n",
    "df_fusion = pd.read_csv(\"../results/radiomics/rkf_results/light_fusion.csv\")\n",
    "df_dummy = pd.read_csv(\"../results/radiomics/rkf_results/dummy.csv\")\n",
    "df_suvmax = pd.read_csv(\"../results/radiomics/rkf_results/suvmax.csv\")\n",
    "df_size = pd.read_csv(\"../results/radiomics/rkf_results/light_fusion_size_analysis.csv\")"
   ]
  },
  {
   "cell_type": "code",
   "execution_count": 3,
   "metadata": {},
   "outputs": [
    {
     "name": "stderr",
     "output_type": "stream",
     "text": [
      "/home/valentin/python_wkspce/plc_segmentation/env/lib/python3.6/site-packages/ipykernel_launcher.py:2: SettingWithCopyWarning: \n",
      "A value is trying to be set on a copy of a slice from a DataFrame.\n",
      "Try using .loc[row_indexer,col_indexer] = value instead\n",
      "\n",
      "See the caveats in the documentation: https://pandas.pydata.org/pandas-docs/stable/user_guide/indexing.html#returning-a-view-versus-a-copy\n",
      "  \n"
     ]
    }
   ],
   "source": [
    "df_plot = df_size[df_size[\"voi\"]==\"GTV_L\"]\n",
    "df_plot[\"1/n_train\"] = df_plot[\"n_train\"].map(lambda x: 1/x)"
   ]
  },
  {
   "cell_type": "code",
   "execution_count": 4,
   "metadata": {},
   "outputs": [
    {
     "data": {
      "text/html": [
       "<div>\n",
       "<style scoped>\n",
       "    .dataframe tbody tr th:only-of-type {\n",
       "        vertical-align: middle;\n",
       "    }\n",
       "\n",
       "    .dataframe tbody tr th {\n",
       "        vertical-align: top;\n",
       "    }\n",
       "\n",
       "    .dataframe thead th {\n",
       "        text-align: right;\n",
       "    }\n",
       "</style>\n",
       "<table border=\"1\" class=\"dataframe\">\n",
       "  <thead>\n",
       "    <tr style=\"text-align: right;\">\n",
       "      <th></th>\n",
       "      <th>Unnamed: 0</th>\n",
       "      <th>accuracy</th>\n",
       "      <th>n_test</th>\n",
       "      <th>n_train</th>\n",
       "      <th>npv</th>\n",
       "      <th>precision</th>\n",
       "      <th>roc_auc</th>\n",
       "      <th>sensitivity</th>\n",
       "      <th>specificity</th>\n",
       "      <th>split</th>\n",
       "    </tr>\n",
       "    <tr>\n",
       "      <th>1/n_train</th>\n",
       "      <th></th>\n",
       "      <th></th>\n",
       "      <th></th>\n",
       "      <th></th>\n",
       "      <th></th>\n",
       "      <th></th>\n",
       "      <th></th>\n",
       "      <th></th>\n",
       "      <th></th>\n",
       "      <th></th>\n",
       "    </tr>\n",
       "  </thead>\n",
       "  <tbody>\n",
       "    <tr>\n",
       "      <th>0.010417</th>\n",
       "      <td>852.5</td>\n",
       "      <td>0.772500</td>\n",
       "      <td>10.0</td>\n",
       "      <td>96.0</td>\n",
       "      <td>0.783433</td>\n",
       "      <td>0.816905</td>\n",
       "      <td>0.835417</td>\n",
       "      <td>0.833333</td>\n",
       "      <td>0.681250</td>\n",
       "      <td>52.5</td>\n",
       "    </tr>\n",
       "    <tr>\n",
       "      <th>0.010526</th>\n",
       "      <td>847.5</td>\n",
       "      <td>0.777273</td>\n",
       "      <td>11.0</td>\n",
       "      <td>95.0</td>\n",
       "      <td>0.769722</td>\n",
       "      <td>0.803671</td>\n",
       "      <td>0.830397</td>\n",
       "      <td>0.858333</td>\n",
       "      <td>0.644167</td>\n",
       "      <td>47.5</td>\n",
       "    </tr>\n",
       "    <tr>\n",
       "      <th>0.011628</th>\n",
       "      <td>752.5</td>\n",
       "      <td>0.787500</td>\n",
       "      <td>10.0</td>\n",
       "      <td>86.0</td>\n",
       "      <td>0.802917</td>\n",
       "      <td>0.832321</td>\n",
       "      <td>0.840625</td>\n",
       "      <td>0.837500</td>\n",
       "      <td>0.712500</td>\n",
       "      <td>52.5</td>\n",
       "    </tr>\n",
       "    <tr>\n",
       "      <th>0.011765</th>\n",
       "      <td>747.5</td>\n",
       "      <td>0.778788</td>\n",
       "      <td>11.0</td>\n",
       "      <td>85.0</td>\n",
       "      <td>0.759365</td>\n",
       "      <td>0.811521</td>\n",
       "      <td>0.815873</td>\n",
       "      <td>0.850397</td>\n",
       "      <td>0.661667</td>\n",
       "      <td>47.5</td>\n",
       "    </tr>\n",
       "    <tr>\n",
       "      <th>0.013158</th>\n",
       "      <td>649.5</td>\n",
       "      <td>0.773636</td>\n",
       "      <td>10.6</td>\n",
       "      <td>76.0</td>\n",
       "      <td>0.758345</td>\n",
       "      <td>0.819504</td>\n",
       "      <td>0.831643</td>\n",
       "      <td>0.823810</td>\n",
       "      <td>0.694000</td>\n",
       "      <td>49.5</td>\n",
       "    </tr>\n",
       "    <tr>\n",
       "      <th>0.014925</th>\n",
       "      <td>552.5</td>\n",
       "      <td>0.795000</td>\n",
       "      <td>10.0</td>\n",
       "      <td>67.0</td>\n",
       "      <td>0.781607</td>\n",
       "      <td>0.857262</td>\n",
       "      <td>0.855208</td>\n",
       "      <td>0.825000</td>\n",
       "      <td>0.750000</td>\n",
       "      <td>52.5</td>\n",
       "    </tr>\n",
       "    <tr>\n",
       "      <th>0.015152</th>\n",
       "      <td>547.5</td>\n",
       "      <td>0.763636</td>\n",
       "      <td>11.0</td>\n",
       "      <td>66.0</td>\n",
       "      <td>0.739802</td>\n",
       "      <td>0.800952</td>\n",
       "      <td>0.826706</td>\n",
       "      <td>0.836905</td>\n",
       "      <td>0.645000</td>\n",
       "      <td>47.5</td>\n",
       "    </tr>\n",
       "    <tr>\n",
       "      <th>0.017544</th>\n",
       "      <td>449.5</td>\n",
       "      <td>0.768091</td>\n",
       "      <td>10.6</td>\n",
       "      <td>57.0</td>\n",
       "      <td>0.766262</td>\n",
       "      <td>0.802659</td>\n",
       "      <td>0.819893</td>\n",
       "      <td>0.842381</td>\n",
       "      <td>0.649500</td>\n",
       "      <td>49.5</td>\n",
       "    </tr>\n",
       "    <tr>\n",
       "      <th>0.020833</th>\n",
       "      <td>352.5</td>\n",
       "      <td>0.780000</td>\n",
       "      <td>10.0</td>\n",
       "      <td>48.0</td>\n",
       "      <td>0.789048</td>\n",
       "      <td>0.819107</td>\n",
       "      <td>0.837500</td>\n",
       "      <td>0.829167</td>\n",
       "      <td>0.706250</td>\n",
       "      <td>52.5</td>\n",
       "    </tr>\n",
       "    <tr>\n",
       "      <th>0.021277</th>\n",
       "      <td>347.5</td>\n",
       "      <td>0.728788</td>\n",
       "      <td>11.0</td>\n",
       "      <td>47.0</td>\n",
       "      <td>0.687659</td>\n",
       "      <td>0.787295</td>\n",
       "      <td>0.773929</td>\n",
       "      <td>0.785714</td>\n",
       "      <td>0.637500</td>\n",
       "      <td>47.5</td>\n",
       "    </tr>\n",
       "    <tr>\n",
       "      <th>0.026316</th>\n",
       "      <td>249.5</td>\n",
       "      <td>0.744727</td>\n",
       "      <td>10.6</td>\n",
       "      <td>38.0</td>\n",
       "      <td>0.704750</td>\n",
       "      <td>0.797042</td>\n",
       "      <td>0.796589</td>\n",
       "      <td>0.797143</td>\n",
       "      <td>0.659000</td>\n",
       "      <td>49.5</td>\n",
       "    </tr>\n",
       "    <tr>\n",
       "      <th>0.035714</th>\n",
       "      <td>149.5</td>\n",
       "      <td>0.693909</td>\n",
       "      <td>10.6</td>\n",
       "      <td>28.0</td>\n",
       "      <td>0.632929</td>\n",
       "      <td>0.772440</td>\n",
       "      <td>0.744244</td>\n",
       "      <td>0.727619</td>\n",
       "      <td>0.641000</td>\n",
       "      <td>49.5</td>\n",
       "    </tr>\n",
       "    <tr>\n",
       "      <th>0.052632</th>\n",
       "      <td>49.5</td>\n",
       "      <td>0.676545</td>\n",
       "      <td>10.6</td>\n",
       "      <td>19.0</td>\n",
       "      <td>0.603167</td>\n",
       "      <td>0.750567</td>\n",
       "      <td>0.707548</td>\n",
       "      <td>0.725952</td>\n",
       "      <td>0.597000</td>\n",
       "      <td>49.5</td>\n",
       "    </tr>\n",
       "  </tbody>\n",
       "</table>\n",
       "</div>"
      ],
      "text/plain": [
       "           Unnamed: 0  accuracy  n_test  ...  sensitivity  specificity  split\n",
       "1/n_train                                ...                                 \n",
       "0.010417        852.5  0.772500    10.0  ...     0.833333     0.681250   52.5\n",
       "0.010526        847.5  0.777273    11.0  ...     0.858333     0.644167   47.5\n",
       "0.011628        752.5  0.787500    10.0  ...     0.837500     0.712500   52.5\n",
       "0.011765        747.5  0.778788    11.0  ...     0.850397     0.661667   47.5\n",
       "0.013158        649.5  0.773636    10.6  ...     0.823810     0.694000   49.5\n",
       "0.014925        552.5  0.795000    10.0  ...     0.825000     0.750000   52.5\n",
       "0.015152        547.5  0.763636    11.0  ...     0.836905     0.645000   47.5\n",
       "0.017544        449.5  0.768091    10.6  ...     0.842381     0.649500   49.5\n",
       "0.020833        352.5  0.780000    10.0  ...     0.829167     0.706250   52.5\n",
       "0.021277        347.5  0.728788    11.0  ...     0.785714     0.637500   47.5\n",
       "0.026316        249.5  0.744727    10.6  ...     0.797143     0.659000   49.5\n",
       "0.035714        149.5  0.693909    10.6  ...     0.727619     0.641000   49.5\n",
       "0.052632         49.5  0.676545    10.6  ...     0.725952     0.597000   49.5\n",
       "\n",
       "[13 rows x 10 columns]"
      ]
     },
     "execution_count": 4,
     "metadata": {},
     "output_type": "execute_result"
    }
   ],
   "source": [
    "df_plot.groupby(\"1/n_train\").mean()"
   ]
  },
  {
   "cell_type": "code",
   "execution_count": 5,
   "metadata": {},
   "outputs": [],
   "source": [
    "linear_model = np.polyfit(df_plot[\"1/n_train\"].values,\n",
    "                          df_plot[\"roc_auc\"].values, 1)\n",
    "linear_model_fn = np.poly1d(linear_model)\n"
   ]
  },
  {
   "cell_type": "code",
   "execution_count": 6,
   "metadata": {},
   "outputs": [
    {
     "data": {
      "text/plain": [
       "0.5518295121026855"
      ]
     },
     "execution_count": 6,
     "metadata": {},
     "output_type": "execute_result"
    }
   ],
   "source": [
    "linear_model_fn(1/10)"
   ]
  },
  {
   "cell_type": "code",
   "execution_count": 7,
   "metadata": {},
   "outputs": [
    {
     "data": {
      "text/plain": [
       "array([-3.20141574,  0.87197109])"
      ]
     },
     "execution_count": 7,
     "metadata": {},
     "output_type": "execute_result"
    }
   ],
   "source": [
    "linear_model"
   ]
  },
  {
   "cell_type": "code",
   "execution_count": 8,
   "metadata": {},
   "outputs": [
    {
     "data": {
      "text/plain": [
       "<AxesSubplot:xlabel='1/n_train', ylabel='roc_auc'>"
      ]
     },
     "execution_count": 8,
     "metadata": {},
     "output_type": "execute_result"
    },
    {
     "data": {
      "image/png": "[encoded data removed]",
      "text/plain": [
       "<Figure size 432x288 with 1 Axes>"
      ]
     },
     "metadata": {
      "needs_background": "light"
     },
     "output_type": "display_data"
    }
   ],
   "source": [
    "sns.violinplot(x=\"1/n_train\", y=\"roc_auc\", data=df_plot)"
   ]
  },
  {
   "cell_type": "code",
   "execution_count": 9,
   "metadata": {},
   "outputs": [],
   "source": [
    "df_fcounts = pd.read_csv(\"../results/radiomics/rkf_results/light_feature_counts.csv\")"
   ]
  },
  {
   "cell_type": "code",
   "execution_count": 10,
   "metadata": {},
   "outputs": [
    {
     "data": {
      "text/html": [
       "<div>\n",
       "<style scoped>\n",
       "    .dataframe tbody tr th:only-of-type {\n",
       "        vertical-align: middle;\n",
       "    }\n",
       "\n",
       "    .dataframe tbody tr th {\n",
       "        vertical-align: top;\n",
       "    }\n",
       "\n",
       "    .dataframe thead th {\n",
       "        text-align: right;\n",
       "    }\n",
       "</style>\n",
       "<table border=\"1\" class=\"dataframe\">\n",
       "  <thead>\n",
       "    <tr style=\"text-align: right;\">\n",
       "      <th></th>\n",
       "      <th>Unnamed: 0</th>\n",
       "      <th>feature_name</th>\n",
       "      <th>feature_count</th>\n",
       "      <th>modality</th>\n",
       "      <th>voi</th>\n",
       "    </tr>\n",
       "  </thead>\n",
       "  <tbody>\n",
       "    <tr>\n",
       "      <th>164</th>\n",
       "      <td>164</td>\n",
       "      <td>log-sigma-2-0-mm-3D_firstorder_Maximum</td>\n",
       "      <td>1.0</td>\n",
       "      <td>CT</td>\n",
       "      <td>GTV_N</td>\n",
       "    </tr>\n",
       "    <tr>\n",
       "      <th>195</th>\n",
       "      <td>195</td>\n",
       "      <td>log-sigma-5-0-mm-3D_firstorder_Skewness</td>\n",
       "      <td>2.0</td>\n",
       "      <td>CT</td>\n",
       "      <td>GTV_N</td>\n",
       "    </tr>\n",
       "    <tr>\n",
       "      <th>172</th>\n",
       "      <td>172</td>\n",
       "      <td>log-sigma-3-0-mm-3D_firstorder_Kurtosis</td>\n",
       "      <td>3.0</td>\n",
       "      <td>CT</td>\n",
       "      <td>GTV_N</td>\n",
       "    </tr>\n",
       "    <tr>\n",
       "      <th>192</th>\n",
       "      <td>192</td>\n",
       "      <td>log-sigma-5-0-mm-3D_firstorder_Mean</td>\n",
       "      <td>3.0</td>\n",
       "      <td>CT</td>\n",
       "      <td>GTV_N</td>\n",
       "    </tr>\n",
       "    <tr>\n",
       "      <th>190</th>\n",
       "      <td>190</td>\n",
       "      <td>log-sigma-5-0-mm-3D_firstorder_Kurtosis</td>\n",
       "      <td>4.0</td>\n",
       "      <td>CT</td>\n",
       "      <td>GTV_N</td>\n",
       "    </tr>\n",
       "    <tr>\n",
       "      <th>200</th>\n",
       "      <td>200</td>\n",
       "      <td>original_firstorder_Maximum</td>\n",
       "      <td>4.0</td>\n",
       "      <td>CT</td>\n",
       "      <td>GTV_N</td>\n",
       "    </tr>\n",
       "    <tr>\n",
       "      <th>193</th>\n",
       "      <td>193</td>\n",
       "      <td>log-sigma-5-0-mm-3D_firstorder_Minimum</td>\n",
       "      <td>5.0</td>\n",
       "      <td>CT</td>\n",
       "      <td>GTV_N</td>\n",
       "    </tr>\n",
       "    <tr>\n",
       "      <th>204</th>\n",
       "      <td>204</td>\n",
       "      <td>original_firstorder_Skewness</td>\n",
       "      <td>5.0</td>\n",
       "      <td>CT</td>\n",
       "      <td>GTV_N</td>\n",
       "    </tr>\n",
       "    <tr>\n",
       "      <th>168</th>\n",
       "      <td>168</td>\n",
       "      <td>log-sigma-2-0-mm-3D_firstorder_Skewness</td>\n",
       "      <td>12.0</td>\n",
       "      <td>CT</td>\n",
       "      <td>GTV_N</td>\n",
       "    </tr>\n",
       "    <tr>\n",
       "      <th>159</th>\n",
       "      <td>159</td>\n",
       "      <td>log-sigma-1-0-mm-3D_firstorder_Skewness</td>\n",
       "      <td>22.0</td>\n",
       "      <td>CT</td>\n",
       "      <td>GTV_N</td>\n",
       "    </tr>\n",
       "    <tr>\n",
       "      <th>201</th>\n",
       "      <td>201</td>\n",
       "      <td>original_firstorder_Mean</td>\n",
       "      <td>38.0</td>\n",
       "      <td>CT</td>\n",
       "      <td>GTV_N</td>\n",
       "    </tr>\n",
       "    <tr>\n",
       "      <th>163</th>\n",
       "      <td>163</td>\n",
       "      <td>log-sigma-2-0-mm-3D_firstorder_Kurtosis</td>\n",
       "      <td>45.0</td>\n",
       "      <td>CT</td>\n",
       "      <td>GTV_N</td>\n",
       "    </tr>\n",
       "    <tr>\n",
       "      <th>220</th>\n",
       "      <td>220</td>\n",
       "      <td>original_glcm_Imc2</td>\n",
       "      <td>77.0</td>\n",
       "      <td>CT</td>\n",
       "      <td>GTV_N</td>\n",
       "    </tr>\n",
       "    <tr>\n",
       "      <th>188</th>\n",
       "      <td>188</td>\n",
       "      <td>log-sigma-5-0-mm-3D_firstorder_Energy</td>\n",
       "      <td>100.0</td>\n",
       "      <td>CT</td>\n",
       "      <td>GTV_N</td>\n",
       "    </tr>\n",
       "    <tr>\n",
       "      <th>197</th>\n",
       "      <td>197</td>\n",
       "      <td>original_firstorder_Energy</td>\n",
       "      <td>100.0</td>\n",
       "      <td>CT</td>\n",
       "      <td>GTV_N</td>\n",
       "    </tr>\n",
       "  </tbody>\n",
       "</table>\n",
       "</div>"
      ],
      "text/plain": [
       "     Unnamed: 0                             feature_name  ...  modality    voi\n",
       "164         164   log-sigma-2-0-mm-3D_firstorder_Maximum  ...        CT  GTV_N\n",
       "195         195  log-sigma-5-0-mm-3D_firstorder_Skewness  ...        CT  GTV_N\n",
       "172         172  log-sigma-3-0-mm-3D_firstorder_Kurtosis  ...        CT  GTV_N\n",
       "192         192      log-sigma-5-0-mm-3D_firstorder_Mean  ...        CT  GTV_N\n",
       "190         190  log-sigma-5-0-mm-3D_firstorder_Kurtosis  ...        CT  GTV_N\n",
       "200         200              original_firstorder_Maximum  ...        CT  GTV_N\n",
       "193         193   log-sigma-5-0-mm-3D_firstorder_Minimum  ...        CT  GTV_N\n",
       "204         204             original_firstorder_Skewness  ...        CT  GTV_N\n",
       "168         168  log-sigma-2-0-mm-3D_firstorder_Skewness  ...        CT  GTV_N\n",
       "159         159  log-sigma-1-0-mm-3D_firstorder_Skewness  ...        CT  GTV_N\n",
       "201         201                 original_firstorder_Mean  ...        CT  GTV_N\n",
       "163         163  log-sigma-2-0-mm-3D_firstorder_Kurtosis  ...        CT  GTV_N\n",
       "220         220                       original_glcm_Imc2  ...        CT  GTV_N\n",
       "188         188    log-sigma-5-0-mm-3D_firstorder_Energy  ...        CT  GTV_N\n",
       "197         197               original_firstorder_Energy  ...        CT  GTV_N\n",
       "\n",
       "[15 rows x 5 columns]"
      ]
     },
     "execution_count": 10,
     "metadata": {},
     "output_type": "execute_result"
    }
   ],
   "source": [
    "df_f_hist = df_fcounts[(df_fcounts[\"modality\"] == \"CT\")\n",
    "                       & (df_fcounts[\"voi\"] == \"GTV_N\") &\n",
    "                       (df_fcounts[\"feature_count\"] != 0.0)].sort_values(\n",
    "                           by=\"feature_count\")\n",
    "df_f_hist"
   ]
  },
  {
   "cell_type": "code",
   "execution_count": 11,
   "metadata": {},
   "outputs": [
    {
     "data": {
      "text/plain": [
       "Unnamed: 0     49.500000\n",
       "accuracy        0.771909\n",
       "n_test         10.600000\n",
       "n_train        95.400000\n",
       "npv             0.762714\n",
       "precision       0.801768\n",
       "roc_auc         0.831083\n",
       "sensitivity     0.846190\n",
       "specificity     0.654500\n",
       "split          49.500000\n",
       "dtype: float64"
      ]
     },
     "execution_count": 11,
     "metadata": {},
     "output_type": "execute_result"
    }
   ],
   "source": [
    "df[(df[\"modality\"] == \"CT\") & (df[\"voi\"] == \"GTV_L\")].mean()"
   ]
  },
  {
   "cell_type": "code",
   "execution_count": 12,
   "metadata": {},
   "outputs": [
    {
     "data": {
      "text/plain": [
       "Unnamed: 0     349.500000\n",
       "accuracy         0.793091\n",
       "n_test          10.600000\n",
       "n_train         95.400000\n",
       "npv              0.780659\n",
       "precision        0.839389\n",
       "roc_auc          0.842321\n",
       "sensitivity      0.841667\n",
       "specificity      0.717000\n",
       "split           49.500000\n",
       "dtype: float64"
      ]
     },
     "execution_count": 12,
     "metadata": {},
     "output_type": "execute_result"
    }
   ],
   "source": [
    "df[(df[\"modality\"] == \"PT\") & (df[\"voi\"] == \"GTV_L\")].mean()"
   ]
  },
  {
   "cell_type": "code",
   "execution_count": 13,
   "metadata": {},
   "outputs": [],
   "source": [
    "df = pd.concat([df, df_fusion], axis=0)"
   ]
  },
  {
   "cell_type": "code",
   "execution_count": 14,
   "metadata": {},
   "outputs": [
    {
     "data": {
      "text/plain": [
       "Unnamed: 0     249.500000\n",
       "accuracy         0.689182\n",
       "n_test          10.600000\n",
       "n_train         95.400000\n",
       "npv              0.673333\n",
       "precision        0.712167\n",
       "roc_auc          0.654298\n",
       "sensitivity      0.845238\n",
       "specificity      0.441000\n",
       "split           49.500000\n",
       "dtype: float64"
      ]
     },
     "execution_count": 14,
     "metadata": {},
     "output_type": "execute_result"
    }
   ],
   "source": [
    "df[(df[\"modality\"] == \"CT\") & (df[\"voi\"] == \"GTV_N\")].mean()\n"
   ]
  },
  {
   "cell_type": "code",
   "execution_count": 15,
   "metadata": {},
   "outputs": [],
   "source": [
    "df_dummy[\"modality\"] = \"random\"\n",
    "df_dummy[\"voi\"] = df_dummy[\"strategy\"].map(lambda x: \"most_frequent\" if x==\"prior\" else x)"
   ]
  },
  {
   "cell_type": "code",
   "execution_count": 16,
   "metadata": {},
   "outputs": [],
   "source": [
    "df_tot = pd.concat([df, df_dummy[df_dummy[\"voi\"]!=\"most_frequent\"], df_suvmax], axis=0)"
   ]
  },
  {
   "cell_type": "code",
   "execution_count": 17,
   "metadata": {},
   "outputs": [
    {
     "data": {
      "text/plain": [
       "Unnamed: 0     49.500000\n",
       "accuracy        0.774091\n",
       "n_test         10.600000\n",
       "n_train        95.400000\n",
       "npv             0.760333\n",
       "precision       0.804591\n",
       "roc_auc         0.799714\n",
       "sensitivity     0.846190\n",
       "specificity     0.660000\n",
       "split          49.500000\n",
       "strategy             NaN\n",
       "dtype: float64"
      ]
     },
     "execution_count": 17,
     "metadata": {},
     "output_type": "execute_result"
    }
   ],
   "source": [
    "df_tot[(df_tot[\"modality\"] == \"SUVmax\") & (df_tot[\"voi\"] == \"GTV_L\")].mean()"
   ]
  },
  {
   "cell_type": "code",
   "execution_count": 18,
   "metadata": {},
   "outputs": [
    {
     "data": {
      "image/png": "[encoded data removed]",
      "text/plain": [
       "<Figure size 435.725x360 with 1 Axes>"
      ]
     },
     "metadata": {},
     "output_type": "display_data"
    }
   ],
   "source": [
    "sns.set(rc={\"figure.figsize\":(18, 18)}) #width=8, height=4\n",
    "ax = sns.catplot(x=\"modality\", y=\"roc_auc\", hue=\"voi\", data=df, kind=\"box\", palette=\"magma\", width=0.5)\n",
    "plt.savefig(\"/home/valentin/python_wkspce/plc_segmentation/reports/figures/results_ptct.png\")"
   ]
  },
  {
   "cell_type": "code",
   "execution_count": 19,
   "metadata": {},
   "outputs": [
    {
     "data": {
      "text/plain": [
       "Unnamed: 0     49.500000\n",
       "accuracy        0.775364\n",
       "n_test         10.600000\n",
       "n_train        95.400000\n",
       "npv             0.775206\n",
       "precision       0.808964\n",
       "roc_auc         0.832405\n",
       "sensitivity     0.848333\n",
       "specificity     0.659000\n",
       "split          49.500000\n",
       "dtype: float64"
      ]
     },
     "execution_count": 19,
     "metadata": {},
     "output_type": "execute_result"
    }
   ],
   "source": [
    "df[(df[\"modality\"]==\"PET/CT\")&(df[\"voi\"]==\"GTV_L\")].mean()"
   ]
  },
  {
   "cell_type": "code",
   "execution_count": 20,
   "metadata": {},
   "outputs": [
    {
     "data": {
      "image/png": "[encoded data removed]",
      "text/plain": [
       "<Figure size 493.85x360 with 1 Axes>"
      ]
     },
     "metadata": {},
     "output_type": "display_data"
    }
   ],
   "source": [
    "sns.set(rc={\"figure.figsize\":(8, 9)}) #width=8, height=4\n",
    "ax = sns.catplot(x=\"modality\", y=\"roc_auc\", hue=\"voi\", data=df_tot, kind=\"box\", palette=\"magma\", width=1.0)"
   ]
  },
  {
   "cell_type": "code",
   "execution_count": 21,
   "metadata": {},
   "outputs": [
    {
     "data": {
      "text/plain": [
       "Unnamed: 0     249.500000\n",
       "accuracy         0.503091\n",
       "n_test          10.600000\n",
       "n_train         95.400000\n",
       "npv              0.303286\n",
       "precision        0.581054\n",
       "roc_auc          0.449869\n",
       "sensitivity      0.655714\n",
       "specificity      0.263500\n",
       "split           49.500000\n",
       "dtype: float64"
      ]
     },
     "execution_count": 21,
     "metadata": {},
     "output_type": "execute_result"
    }
   ],
   "source": [
    "df_tot[df_tot[\"voi\"]==\"random_features\"].mean()"
   ]
  },
  {
   "cell_type": "code",
   "execution_count": 22,
   "metadata": {},
   "outputs": [
    {
     "data": {
      "text/plain": [
       "array(['CT', 'PT', 'PET/CT', 'random', 'SUVmax'], dtype=object)"
      ]
     },
     "execution_count": 22,
     "metadata": {},
     "output_type": "execute_result"
    }
   ],
   "source": [
    "df_tot[\"modality\"].unique()"
   ]
  },
  {
   "cell_type": "code",
   "execution_count": 23,
   "metadata": {},
   "outputs": [
    {
     "name": "stderr",
     "output_type": "stream",
     "text": [
      "/home/valentin/python_wkspce/plc_segmentation/env/lib/python3.6/site-packages/ipykernel_launcher.py:7: SettingWithCopyWarning: \n",
      "A value is trying to be set on a copy of a slice from a DataFrame.\n",
      "Try using .loc[row_indexer,col_indexer] = value instead\n",
      "\n",
      "See the caveats in the documentation: https://pandas.pydata.org/pandas-docs/stable/user_guide/indexing.html#returning-a-view-versus-a-copy\n",
      "  import sys\n"
     ]
    }
   ],
   "source": [
    "df_catplot = df_tot[df_tot[\"modality\"].isin([\"PET/CT\"])]\n",
    "translate_voi = {\n",
    "    \"GTV_L\": \"VOI L\",\n",
    "    \"GTV_T\": \"VOI T\",\n",
    "    \"GTV_N\": \"VOI N\",\n",
    "}\n",
    "df_catplot[\"voi\"] = df_catplot[\"voi\"].map(lambda x: translate_voi[x])"
   ]
  },
  {
   "cell_type": "code",
   "execution_count": 24,
   "metadata": {},
   "outputs": [],
   "source": [
    "from matplotlib.markers import TICKDOWN\n",
    "\n",
    "\n",
    "def significance_bar(start,\n",
    "                     end,\n",
    "                     height,\n",
    "                     displaystring,\n",
    "                     linewidth=1.2,\n",
    "                     markersize=8,\n",
    "                     boxpad=0.3,\n",
    "                     fontsize=15,\n",
    "                     color='k'):\n",
    "    # draw a line with downticks at the ends\n",
    "    plt.plot(\n",
    "        [start, end],\n",
    "        [height] * 2,\n",
    "        '-',\n",
    "        color=color,\n",
    "        lw=linewidth,\n",
    "        marker=TICKDOWN,\n",
    "        markeredgewidth=linewidth,\n",
    "        markersize=markersize,\n",
    "        clip_on=False,\n",
    "    )\n",
    "    # draw the text with a bounding box covering up the line\n",
    "    plt.text(0.5 * (start + end),\n",
    "             height,\n",
    "             displaystring,\n",
    "             ha='center',\n",
    "             va='center',\n",
    "             bbox=dict(facecolor='1.',\n",
    "                       edgecolor='none',\n",
    "                       boxstyle='Square,pad=' + str(boxpad)),\n",
    "             size=fontsize)\n"
   ]
  },
  {
   "cell_type": "code",
   "execution_count": 25,
   "metadata": {},
   "outputs": [
    {
     "data": {
      "image/png": "[encoded data removed]",
      "text/plain": [
       "<Figure size 432x288 with 1 Axes>"
      ]
     },
     "metadata": {},
     "output_type": "display_data"
    }
   ],
   "source": [
    "sns.set_style(\"whitegrid\")\n",
    "g = sns.catplot(x=\"voi\",\n",
    "                y=\"roc_auc\",\n",
    "                data=df_catplot,\n",
    "                kind=\"box\",\n",
    "                fliersize=0.0,\n",
    "                width=0.25,\n",
    "                height=4,\n",
    "                aspect=1.5)\n",
    "g = sns.stripplot(x=\"voi\", y=\"roc_auc\", data=df_catplot, color=\"0.3\")\n",
    "g.set(ylabel='ROC AUC', xlabel='')\n",
    "g.set_yticks(ticks=[0.1*k for k in range(11)])\n",
    "g.set(ylim=(0.0, 1.05))\n",
    "# plt.plot([1,2],[1.1,1.1], '|-k')\n",
    "significance_bar(0,\n",
    "                 1,\n",
    "                 1.1,\n",
    "                 \"*\",\n",
    "                 linewidth=1.2,\n",
    "                 markersize=8,\n",
    "                 boxpad=0.3,\n",
    "                 fontsize=15,\n",
    "                 color='k')\n",
    "significance_bar(0,\n",
    "                 2,\n",
    "                 1.2,\n",
    "                 \"**\",\n",
    "                 linewidth=1.2,\n",
    "                 markersize=8,\n",
    "                 boxpad=0.3,\n",
    "                 fontsize=15,\n",
    "                 color='k')\n",
    "plt.savefig(\"petct_auc.png\", dpi=200, bbox_inches=\"tight\")"
   ]
  },
  {
   "cell_type": "code",
   "execution_count": 26,
   "metadata": {},
   "outputs": [
    {
     "name": "stderr",
     "output_type": "stream",
     "text": [
      "/home/valentin/python_wkspce/plc_segmentation/env/lib/python3.6/site-packages/ipykernel_launcher.py:8: SettingWithCopyWarning: \n",
      "A value is trying to be set on a copy of a slice from a DataFrame.\n",
      "Try using .loc[row_indexer,col_indexer] = value instead\n",
      "\n",
      "See the caveats in the documentation: https://pandas.pydata.org/pandas-docs/stable/user_guide/indexing.html#returning-a-view-versus-a-copy\n",
      "  \n"
     ]
    }
   ],
   "source": [
    "df_catplot = df_tot[df_tot[\"voi\"]==\"GTV_L\"]\n",
    "translate_modality = {\n",
    "    \"PT\": \"PET\",\n",
    "    \"PET/CT\": \"PET/CT\",\n",
    "    \"CT\": \"CT\",\n",
    "    \"SUVmax\": \"SUV$_{max}$\",\n",
    "}\n",
    "df_catplot[\"modality\"] = df_catplot[\"modality\"].map(lambda x: translate_modality[x])"
   ]
  },
  {
   "cell_type": "code",
   "execution_count": 27,
   "metadata": {},
   "outputs": [
    {
     "data": {
      "image/png": "[encoded data removed]",
      "text/plain": [
       "<Figure size 432x288 with 1 Axes>"
      ]
     },
     "metadata": {},
     "output_type": "display_data"
    }
   ],
   "source": [
    "sns.set_style(\"whitegrid\")\n",
    "g = sns.catplot(x=\"modality\",\n",
    "                y=\"roc_auc\",\n",
    "                data=df_catplot,\n",
    "                kind=\"box\",\n",
    "                fliersize=0.0,\n",
    "                width=0.25,\n",
    "                height=4,\n",
    "                aspect=1.5)\n",
    "g = sns.stripplot(x=\"modality\", y=\"roc_auc\", data=df_catplot, color=\"0.3\", size=3.5)\n",
    "g.set(ylabel='ROC AUC', xlabel='')\n",
    "g.set_yticks(ticks=[0.1*k for k in range(11)])\n",
    "g.set(ylim=(0.0, 1.05))\n",
    "# plt.plot([1,2],[1.1,1.1], '|-k')\n",
    "\n",
    "plt.savefig(\"gtvl_auc.png\", dpi=200, bbox_inches=\"tight\")"
   ]
  },
  {
   "cell_type": "code",
   "execution_count": 38,
   "metadata": {},
   "outputs": [],
   "source": [
    "s1 = df_tot.loc[(df_tot[\"modality\"]==\"PET/CT\") & (df_tot[\"voi\"]==\"GTV_L\"), \"roc_auc\"].values\n",
    "s2 = df_tot.loc[(df_tot[\"modality\"]==\"PET/CT\") & (df_tot[\"voi\"]==\"GTV_N\"), \"roc_auc\"].values"
   ]
  },
  {
   "cell_type": "code",
   "execution_count": 45,
   "metadata": {},
   "outputs": [],
   "source": [
    "n_train = df_tot.loc[(df_tot[\"modality\"]==\"PET/CT\") & (df_tot[\"voi\"]==\"GTV_L\"), \"n_train\"].mean()\n",
    "n_test = df_tot.loc[(df_tot[\"modality\"]==\"PET/CT\") & (df_tot[\"voi\"]==\"GTV_L\"), \"n_test\"].mean()"
   ]
  },
  {
   "cell_type": "code",
   "execution_count": 49,
   "metadata": {},
   "outputs": [
    {
     "data": {
      "text/plain": [
       "(0.7469924388115385, 0.9178170849979852)"
      ]
     },
     "execution_count": 49,
     "metadata": {},
     "output_type": "execute_result"
    }
   ],
   "source": [
    "corrected_ci(s1, n_train, n_test)\n"
   ]
  },
  {
   "cell_type": "code",
   "execution_count": 50,
   "metadata": {},
   "outputs": [
    {
     "data": {
      "text/plain": [
       "Index(['Unnamed: 0', 'accuracy', 'n_test', 'n_train', 'npv', 'precision',\n",
       "       'roc_auc', 'sensitivity', 'specificity', 'split', 'modality', 'voi'],\n",
       "      dtype='object')"
      ]
     },
     "execution_count": 50,
     "metadata": {},
     "output_type": "execute_result"
    }
   ],
   "source": [
    "df.columns"
   ]
  },
  {
   "cell_type": "code",
   "execution_count": 60,
   "metadata": {},
   "outputs": [],
   "source": [
    "def extract_score(modality, voi, df, score):\n",
    "    return df.loc[(df[\"modality\"] == modality) & (df_tot[\"voi\"] == voi),\n",
    "                  score].values\n",
    "\n",
    "\n",
    "scores = [\n",
    "    'roc_auc',\n",
    "    'accuracy',\n",
    "    'sensitivity',\n",
    "    'specificity',\n",
    "    'precision',\n",
    "    'npv',\n",
    "]\n",
    "\n",
    "\n",
    "def print_results(modality, voi, df):\n",
    "    for score in scores:\n",
    "        s = extract_score(modality, voi, df, score)\n",
    "        ci = corrected_ci(s, n_train, n_test)\n",
    "        print(f\"{score} : {np.mean(s):.4f} ({ci[0]:.4f} - {ci[1]:.4f})\", )\n"
   ]
  },
  {
   "cell_type": "code",
   "execution_count": 72,
   "metadata": {},
   "outputs": [
    {
     "name": "stdout",
     "output_type": "stream",
     "text": [
      "roc_auc : 0.5816 (0.4669 - 0.6962)\n",
      "accuracy : 0.6088 (0.5829 - 0.6348)\n",
      "sensitivity : 0.9921 (0.9632 - 1.0211)\n",
      "specificity : 0.0025 (-0.0148 - 0.0198)\n",
      "precision : 0.6112 (0.5896 - 0.6328)\n",
      "npv : 0.0050 (-0.0295 - 0.0395)\n"
     ]
    }
   ],
   "source": [
    "print_results(\"SUVmax\", \"GTV_N\", df_tot)"
   ]
  },
  {
   "cell_type": "code",
   "execution_count": 39,
   "metadata": {},
   "outputs": [],
   "source": [
    "# s2 = df_dummy.loc[df_dummy[\"strategy\"]==\"center\", \"roc_auc\"].values\n",
    "# s2 = df_dummy.loc[df_dummy[\"strategy\"]==\"random_features\", \"roc_auc\"].values"
   ]
  },
  {
   "cell_type": "code",
   "execution_count": 46,
   "metadata": {},
   "outputs": [],
   "source": [
    "s = compare_score(s1, s2, n_train, n_test)"
   ]
  },
  {
   "cell_type": "code",
   "execution_count": 47,
   "metadata": {},
   "outputs": [
    {
     "data": {
      "text/plain": [
       "0.6961071428571428"
      ]
     },
     "execution_count": 47,
     "metadata": {},
     "output_type": "execute_result"
    }
   ],
   "source": [
    "np.mean(s2)"
   ]
  },
  {
   "cell_type": "code",
   "execution_count": 48,
   "metadata": {},
   "outputs": [
    {
     "name": "stdout",
     "output_type": "stream",
     "text": [
      "{'t_stat': 2.367768812414347, 'p_value': 0.009919587722643747, 'proba M1 > M2': 0.9900804122773562, 'rope_interval': 0.008990589811753767}\n"
     ]
    }
   ],
   "source": [
    "print(s)"
   ]
  },
  {
   "cell_type": "code",
   "execution_count": null,
   "metadata": {},
   "outputs": [],
   "source": [
    "s[\"p_value\"] + s[\"proba M1 > M2\"]"
   ]
  },
  {
   "cell_type": "code",
   "execution_count": null,
   "metadata": {},
   "outputs": [],
   "source": []
  }
 ],
 "metadata": {
  "interpreter": {
   "hash": "26794336849f69f1a455c7b9076cea9e2673f8b3db6968d6e62389984b0c1cbc"
  },
  "kernelspec": {
   "display_name": "Python 3.6.9 64-bit ('env': virtualenv)",
   "language": "python",
   "name": "python3"
  },
  "language_info": {
   "codemirror_mode": {
    "name": "ipython",
    "version": 3
   },
   "file_extension": ".py",
   "mimetype": "text/x-python",
   "name": "python",
   "nbconvert_exporter": "python",
   "pygments_lexer": "ipython3",
   "version": "3.6.9"
  },
  "orig_nbformat": 4
 },
 "nbformat": 4,
 "nbformat_minor": 2
}
