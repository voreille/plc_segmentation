{
 "cells": [
  {
   "cell_type": "code",
   "execution_count": 1,
   "metadata": {},
   "outputs": [],
   "source": [
    "import numpy as np\n",
    "import pandas as pd\n",
    "from scipy.stats import t\n",
    "import seaborn as sns\n",
    "import matplotlib.pyplot as plt\n",
    "\n",
    "from src.statistics.stats import compare_score, corrected_ci"
   ]
  },
  {
   "cell_type": "code",
   "execution_count": 2,
   "metadata": {},
   "outputs": [],
   "source": [
    "df = pd.read_csv(\"../results/radiomics/rkf_results/light.csv\")\n",
    "df_combat = pd.read_csv(\"../results/radiomics/rkf_results/light_combat.csv\")\n",
    "df_fusion = pd.read_csv(\"../results/radiomics/rkf_results/light_fusion.csv\")\n",
    "df_dummy = pd.read_csv(\"../results/radiomics/rkf_results/dummy.csv\")\n",
    "df_suvmax = pd.read_csv(\"../results/radiomics/rkf_results/suvmax.csv\")\n",
    "df_size = pd.read_csv(\"../results/radiomics/rkf_results/light_fusion_size_analysis.csv\")"
   ]
  },
  {
   "cell_type": "code",
   "execution_count": 3,
   "metadata": {},
   "outputs": [
    {
     "name": "stderr",
     "output_type": "stream",
     "text": [
      "/home/valentin/python_wkspce/plc_segmentation/env/lib/python3.6/site-packages/ipykernel_launcher.py:2: SettingWithCopyWarning: \n",
      "A value is trying to be set on a copy of a slice from a DataFrame.\n",
      "Try using .loc[row_indexer,col_indexer] = value instead\n",
      "\n",
      "See the caveats in the documentation: https://pandas.pydata.org/pandas-docs/stable/user_guide/indexing.html#returning-a-view-versus-a-copy\n",
      "  \n"
     ]
    }
   ],
   "source": [
    "df_plot = df_size[df_size[\"voi\"]==\"GTV_L\"]\n",
    "df_plot[\"1/n_train\"] = df_plot[\"n_train\"].map(lambda x: 1/x)"
   ]
  },
  {
   "cell_type": "code",
   "execution_count": 4,
   "metadata": {},
   "outputs": [
    {
     "data": {
      "text/html": [
       "<div>\n",
       "<style scoped>\n",
       "    .dataframe tbody tr th:only-of-type {\n",
       "        vertical-align: middle;\n",
       "    }\n",
       "\n",
       "    .dataframe tbody tr th {\n",
       "        vertical-align: top;\n",
       "    }\n",
       "\n",
       "    .dataframe thead th {\n",
       "        text-align: right;\n",
       "    }\n",
       "</style>\n",
       "<table border=\"1\" class=\"dataframe\">\n",
       "  <thead>\n",
       "    <tr style=\"text-align: right;\">\n",
       "      <th></th>\n",
       "      <th>Unnamed: 0</th>\n",
       "      <th>accuracy</th>\n",
       "      <th>n_test</th>\n",
       "      <th>n_train</th>\n",
       "      <th>npv</th>\n",
       "      <th>precision</th>\n",
       "      <th>roc_auc</th>\n",
       "      <th>sensitivity</th>\n",
       "      <th>specificity</th>\n",
       "      <th>split</th>\n",
       "    </tr>\n",
       "    <tr>\n",
       "      <th>1/n_train</th>\n",
       "      <th></th>\n",
       "      <th></th>\n",
       "      <th></th>\n",
       "      <th></th>\n",
       "      <th></th>\n",
       "      <th></th>\n",
       "      <th></th>\n",
       "      <th></th>\n",
       "      <th></th>\n",
       "      <th></th>\n",
       "    </tr>\n",
       "  </thead>\n",
       "  <tbody>\n",
       "    <tr>\n",
       "      <th>0.011111</th>\n",
       "      <td>749.5</td>\n",
       "      <td>0.772545</td>\n",
       "      <td>10.6</td>\n",
       "      <td>90.0</td>\n",
       "      <td>0.759278</td>\n",
       "      <td>0.813373</td>\n",
       "      <td>0.841190</td>\n",
       "      <td>0.837143</td>\n",
       "      <td>0.6700</td>\n",
       "      <td>49.5</td>\n",
       "    </tr>\n",
       "    <tr>\n",
       "      <th>0.012500</th>\n",
       "      <td>649.5</td>\n",
       "      <td>0.776455</td>\n",
       "      <td>10.6</td>\n",
       "      <td>80.0</td>\n",
       "      <td>0.776464</td>\n",
       "      <td>0.804967</td>\n",
       "      <td>0.823738</td>\n",
       "      <td>0.849762</td>\n",
       "      <td>0.6600</td>\n",
       "      <td>49.5</td>\n",
       "    </tr>\n",
       "    <tr>\n",
       "      <th>0.014286</th>\n",
       "      <td>549.5</td>\n",
       "      <td>0.768000</td>\n",
       "      <td>10.6</td>\n",
       "      <td>70.0</td>\n",
       "      <td>0.757798</td>\n",
       "      <td>0.808790</td>\n",
       "      <td>0.830631</td>\n",
       "      <td>0.826667</td>\n",
       "      <td>0.6755</td>\n",
       "      <td>49.5</td>\n",
       "    </tr>\n",
       "    <tr>\n",
       "      <th>0.016667</th>\n",
       "      <td>449.5</td>\n",
       "      <td>0.757273</td>\n",
       "      <td>10.6</td>\n",
       "      <td>60.0</td>\n",
       "      <td>0.729619</td>\n",
       "      <td>0.801012</td>\n",
       "      <td>0.802619</td>\n",
       "      <td>0.816667</td>\n",
       "      <td>0.6620</td>\n",
       "      <td>49.5</td>\n",
       "    </tr>\n",
       "    <tr>\n",
       "      <th>0.020000</th>\n",
       "      <td>349.5</td>\n",
       "      <td>0.747273</td>\n",
       "      <td>10.6</td>\n",
       "      <td>50.0</td>\n",
       "      <td>0.723325</td>\n",
       "      <td>0.800806</td>\n",
       "      <td>0.781810</td>\n",
       "      <td>0.799762</td>\n",
       "      <td>0.6615</td>\n",
       "      <td>49.5</td>\n",
       "    </tr>\n",
       "    <tr>\n",
       "      <th>0.025000</th>\n",
       "      <td>249.5</td>\n",
       "      <td>0.740000</td>\n",
       "      <td>10.6</td>\n",
       "      <td>40.0</td>\n",
       "      <td>0.711238</td>\n",
       "      <td>0.794671</td>\n",
       "      <td>0.782589</td>\n",
       "      <td>0.792857</td>\n",
       "      <td>0.6570</td>\n",
       "      <td>49.5</td>\n",
       "    </tr>\n",
       "    <tr>\n",
       "      <th>0.033333</th>\n",
       "      <td>149.5</td>\n",
       "      <td>0.724091</td>\n",
       "      <td>10.6</td>\n",
       "      <td>30.0</td>\n",
       "      <td>0.654508</td>\n",
       "      <td>0.798487</td>\n",
       "      <td>0.775744</td>\n",
       "      <td>0.767857</td>\n",
       "      <td>0.6535</td>\n",
       "      <td>49.5</td>\n",
       "    </tr>\n",
       "    <tr>\n",
       "      <th>0.050000</th>\n",
       "      <td>49.5</td>\n",
       "      <td>0.698091</td>\n",
       "      <td>10.6</td>\n",
       "      <td>20.0</td>\n",
       "      <td>0.655187</td>\n",
       "      <td>0.779344</td>\n",
       "      <td>0.760131</td>\n",
       "      <td>0.735000</td>\n",
       "      <td>0.6385</td>\n",
       "      <td>49.5</td>\n",
       "    </tr>\n",
       "  </tbody>\n",
       "</table>\n",
       "</div>"
      ],
      "text/plain": [
       "           Unnamed: 0  accuracy  n_test  n_train       npv  precision  \\\n",
       "1/n_train                                                               \n",
       "0.011111        749.5  0.772545    10.6     90.0  0.759278   0.813373   \n",
       "0.012500        649.5  0.776455    10.6     80.0  0.776464   0.804967   \n",
       "0.014286        549.5  0.768000    10.6     70.0  0.757798   0.808790   \n",
       "0.016667        449.5  0.757273    10.6     60.0  0.729619   0.801012   \n",
       "0.020000        349.5  0.747273    10.6     50.0  0.723325   0.800806   \n",
       "0.025000        249.5  0.740000    10.6     40.0  0.711238   0.794671   \n",
       "0.033333        149.5  0.724091    10.6     30.0  0.654508   0.798487   \n",
       "0.050000         49.5  0.698091    10.6     20.0  0.655187   0.779344   \n",
       "\n",
       "            roc_auc  sensitivity  specificity  split  \n",
       "1/n_train                                             \n",
       "0.011111   0.841190     0.837143       0.6700   49.5  \n",
       "0.012500   0.823738     0.849762       0.6600   49.5  \n",
       "0.014286   0.830631     0.826667       0.6755   49.5  \n",
       "0.016667   0.802619     0.816667       0.6620   49.5  \n",
       "0.020000   0.781810     0.799762       0.6615   49.5  \n",
       "0.025000   0.782589     0.792857       0.6570   49.5  \n",
       "0.033333   0.775744     0.767857       0.6535   49.5  \n",
       "0.050000   0.760131     0.735000       0.6385   49.5  "
      ]
     },
     "execution_count": 4,
     "metadata": {},
     "output_type": "execute_result"
    }
   ],
   "source": [
    "df_plot.groupby(\"1/n_train\").mean()"
   ]
  },
  {
   "cell_type": "code",
   "execution_count": 5,
   "metadata": {},
   "outputs": [],
   "source": [
    "linear_model = np.polyfit(df_plot[\"1/n_train\"].values,\n",
    "                          df_plot[\"roc_auc\"].values, 1)\n",
    "linear_model_fn = np.poly1d(linear_model)\n"
   ]
  },
  {
   "cell_type": "code",
   "execution_count": 6,
   "metadata": {},
   "outputs": [
    {
     "data": {
      "text/plain": [
       "0.6520312632718551"
      ]
     },
     "execution_count": 6,
     "metadata": {},
     "output_type": "execute_result"
    }
   ],
   "source": [
    "linear_model_fn(1/10)"
   ]
  },
  {
   "cell_type": "code",
   "execution_count": 7,
   "metadata": {},
   "outputs": [
    {
     "data": {
      "text/plain": [
       "array([-1.91572872,  0.84360414])"
      ]
     },
     "execution_count": 7,
     "metadata": {},
     "output_type": "execute_result"
    }
   ],
   "source": [
    "linear_model"
   ]
  },
  {
   "cell_type": "code",
   "execution_count": 8,
   "metadata": {},
   "outputs": [
    {
     "data": {
      "text/plain": [
       "<AxesSubplot:xlabel='1/n_train', ylabel='roc_auc'>"
      ]
     },
     "execution_count": 8,
     "metadata": {},
     "output_type": "execute_result"
    },
    {
     "data": {
      "image/png": "[encoded data removed]",
      "text/plain": [
       "<Figure size 432x288 with 1 Axes>"
      ]
     },
     "metadata": {
      "needs_background": "light"
     },
     "output_type": "display_data"
    }
   ],
   "source": [
    "sns.violinplot(x=\"1/n_train\", y=\"roc_auc\", data=df_plot)"
   ]
  },
  {
   "cell_type": "code",
   "execution_count": 9,
   "metadata": {},
   "outputs": [],
   "source": [
    "df_fcounts = pd.read_csv(\"../results/radiomics/rkf_results/light_feature_counts.csv\")"
   ]
  },
  {
   "cell_type": "code",
   "execution_count": 10,
   "metadata": {},
   "outputs": [
    {
     "data": {
      "text/html": [
       "<div>\n",
       "<style scoped>\n",
       "    .dataframe tbody tr th:only-of-type {\n",
       "        vertical-align: middle;\n",
       "    }\n",
       "\n",
       "    .dataframe tbody tr th {\n",
       "        vertical-align: top;\n",
       "    }\n",
       "\n",
       "    .dataframe thead th {\n",
       "        text-align: right;\n",
       "    }\n",
       "</style>\n",
       "<table border=\"1\" class=\"dataframe\">\n",
       "  <thead>\n",
       "    <tr style=\"text-align: right;\">\n",
       "      <th></th>\n",
       "      <th>feature_name</th>\n",
       "      <th>feature_count</th>\n",
       "      <th>modality</th>\n",
       "      <th>voi</th>\n",
       "    </tr>\n",
       "  </thead>\n",
       "  <tbody>\n",
       "    <tr>\n",
       "      <th>303</th>\n",
       "      <td>original_glcm_SumSquares</td>\n",
       "      <td>1.0</td>\n",
       "      <td>PT</td>\n",
       "      <td>GTV_L</td>\n",
       "    </tr>\n",
       "    <tr>\n",
       "      <th>287</th>\n",
       "      <td>original_glcm_Correlation</td>\n",
       "      <td>5.0</td>\n",
       "      <td>PT</td>\n",
       "      <td>GTV_L</td>\n",
       "    </tr>\n",
       "    <tr>\n",
       "      <th>290</th>\n",
       "      <td>original_glcm_DifferenceVariance</td>\n",
       "      <td>6.0</td>\n",
       "      <td>PT</td>\n",
       "      <td>GTV_L</td>\n",
       "    </tr>\n",
       "    <tr>\n",
       "      <th>267</th>\n",
       "      <td>log-sigma-5-0-mm-3D_firstorder_Maximum</td>\n",
       "      <td>13.0</td>\n",
       "      <td>PT</td>\n",
       "      <td>GTV_L</td>\n",
       "    </tr>\n",
       "    <tr>\n",
       "      <th>270</th>\n",
       "      <td>log-sigma-5-0-mm-3D_firstorder_RobustMeanAbsol...</td>\n",
       "      <td>22.0</td>\n",
       "      <td>PT</td>\n",
       "      <td>GTV_L</td>\n",
       "    </tr>\n",
       "    <tr>\n",
       "      <th>272</th>\n",
       "      <td>log-sigma-5-0-mm-3D_firstorder_Variance</td>\n",
       "      <td>39.0</td>\n",
       "      <td>PT</td>\n",
       "      <td>GTV_L</td>\n",
       "    </tr>\n",
       "    <tr>\n",
       "      <th>278</th>\n",
       "      <td>original_firstorder_Minimum</td>\n",
       "      <td>85.0</td>\n",
       "      <td>PT</td>\n",
       "      <td>GTV_L</td>\n",
       "    </tr>\n",
       "    <tr>\n",
       "      <th>276</th>\n",
       "      <td>original_firstorder_Maximum</td>\n",
       "      <td>90.0</td>\n",
       "      <td>PT</td>\n",
       "      <td>GTV_L</td>\n",
       "    </tr>\n",
       "    <tr>\n",
       "      <th>302</th>\n",
       "      <td>original_glcm_SumEntropy</td>\n",
       "      <td>100.0</td>\n",
       "      <td>PT</td>\n",
       "      <td>GTV_L</td>\n",
       "    </tr>\n",
       "  </tbody>\n",
       "</table>\n",
       "</div>"
      ],
      "text/plain": [
       "                                          feature_name  feature_count  \\\n",
       "303                           original_glcm_SumSquares            1.0   \n",
       "287                          original_glcm_Correlation            5.0   \n",
       "290                   original_glcm_DifferenceVariance            6.0   \n",
       "267             log-sigma-5-0-mm-3D_firstorder_Maximum           13.0   \n",
       "270  log-sigma-5-0-mm-3D_firstorder_RobustMeanAbsol...           22.0   \n",
       "272            log-sigma-5-0-mm-3D_firstorder_Variance           39.0   \n",
       "278                        original_firstorder_Minimum           85.0   \n",
       "276                        original_firstorder_Maximum           90.0   \n",
       "302                           original_glcm_SumEntropy          100.0   \n",
       "\n",
       "    modality    voi  \n",
       "303       PT  GTV_L  \n",
       "287       PT  GTV_L  \n",
       "290       PT  GTV_L  \n",
       "267       PT  GTV_L  \n",
       "270       PT  GTV_L  \n",
       "272       PT  GTV_L  \n",
       "278       PT  GTV_L  \n",
       "276       PT  GTV_L  \n",
       "302       PT  GTV_L  "
      ]
     },
     "execution_count": 10,
     "metadata": {},
     "output_type": "execute_result"
    }
   ],
   "source": [
    "df_f_hist = df_fcounts[(df_fcounts[\"modality\"] == \"PT\")\n",
    "                       & (df_fcounts[\"voi\"] == \"GTV_L\") &\n",
    "                       (df_fcounts[\"feature_count\"] != 0.0)].sort_values(\n",
    "                           by=\"feature_count\")\n",
    "df_f_hist.drop([\"Unnamed: 0\"], axis=1)"
   ]
  },
  {
   "cell_type": "code",
   "execution_count": 11,
   "metadata": {},
   "outputs": [
    {
     "data": {
      "text/plain": [
       "Unnamed: 0     49.500000\n",
       "accuracy        0.771909\n",
       "n_test         10.600000\n",
       "n_train        95.400000\n",
       "npv             0.762714\n",
       "precision       0.801768\n",
       "roc_auc         0.831083\n",
       "sensitivity     0.846190\n",
       "specificity     0.654500\n",
       "split          49.500000\n",
       "dtype: float64"
      ]
     },
     "execution_count": 11,
     "metadata": {},
     "output_type": "execute_result"
    }
   ],
   "source": [
    "df[(df[\"modality\"] == \"CT\") & (df[\"voi\"] == \"GTV_L\")].mean()"
   ]
  },
  {
   "cell_type": "code",
   "execution_count": 12,
   "metadata": {},
   "outputs": [
    {
     "data": {
      "text/plain": [
       "Unnamed: 0     349.500000\n",
       "accuracy         0.793091\n",
       "n_test          10.600000\n",
       "n_train         95.400000\n",
       "npv              0.780659\n",
       "precision        0.839389\n",
       "roc_auc          0.842321\n",
       "sensitivity      0.841667\n",
       "specificity      0.717000\n",
       "split           49.500000\n",
       "dtype: float64"
      ]
     },
     "execution_count": 12,
     "metadata": {},
     "output_type": "execute_result"
    }
   ],
   "source": [
    "df[(df[\"modality\"] == \"PT\") & (df[\"voi\"] == \"GTV_L\")].mean()"
   ]
  },
  {
   "cell_type": "code",
   "execution_count": 13,
   "metadata": {},
   "outputs": [],
   "source": [
    "df = pd.concat([df, df_fusion], axis=0)"
   ]
  },
  {
   "cell_type": "code",
   "execution_count": 14,
   "metadata": {},
   "outputs": [
    {
     "data": {
      "text/plain": [
       "Unnamed: 0     249.500000\n",
       "accuracy         0.689182\n",
       "n_test          10.600000\n",
       "n_train         95.400000\n",
       "npv              0.673333\n",
       "precision        0.712167\n",
       "roc_auc          0.654298\n",
       "sensitivity      0.845238\n",
       "specificity      0.441000\n",
       "split           49.500000\n",
       "dtype: float64"
      ]
     },
     "execution_count": 14,
     "metadata": {},
     "output_type": "execute_result"
    }
   ],
   "source": [
    "df[(df[\"modality\"] == \"CT\") & (df[\"voi\"] == \"GTV_N\")].mean()\n"
   ]
  },
  {
   "cell_type": "code",
   "execution_count": 15,
   "metadata": {},
   "outputs": [],
   "source": [
    "df_dummy[\"modality\"] = \"random\"\n",
    "df_dummy[\"voi\"] = df_dummy[\"strategy\"].map(lambda x: \"most_frequent\" if x==\"prior\" else x)"
   ]
  },
  {
   "cell_type": "code",
   "execution_count": 16,
   "metadata": {},
   "outputs": [],
   "source": [
    "df_tot = pd.concat([df, df_dummy[df_dummy[\"voi\"]!=\"most_frequent\"], df_suvmax], axis=0)"
   ]
  },
  {
   "cell_type": "code",
   "execution_count": 17,
   "metadata": {},
   "outputs": [
    {
     "data": {
      "text/plain": [
       "Unnamed: 0     49.500000\n",
       "accuracy        0.774091\n",
       "n_test         10.600000\n",
       "n_train        95.400000\n",
       "npv             0.760333\n",
       "precision       0.804591\n",
       "roc_auc         0.799714\n",
       "sensitivity     0.846190\n",
       "specificity     0.660000\n",
       "split          49.500000\n",
       "strategy             NaN\n",
       "dtype: float64"
      ]
     },
     "execution_count": 17,
     "metadata": {},
     "output_type": "execute_result"
    }
   ],
   "source": [
    "df_tot[(df_tot[\"modality\"] == \"SUVmax\") & (df_tot[\"voi\"] == \"GTV_L\")].mean()"
   ]
  },
  {
   "cell_type": "code",
   "execution_count": 18,
   "metadata": {},
   "outputs": [
    {
     "data": {
      "image/png": "[encoded data removed]",
      "text/plain": [
       "<Figure size 435.725x360 with 1 Axes>"
      ]
     },
     "metadata": {},
     "output_type": "display_data"
    }
   ],
   "source": [
    "sns.set(rc={\"figure.figsize\":(18, 18)}) #width=8, height=4\n",
    "ax = sns.catplot(x=\"modality\", y=\"roc_auc\", hue=\"voi\", data=df, kind=\"box\", palette=\"magma\", width=0.5)\n",
    "plt.savefig(\"/home/valentin/python_wkspce/plc_segmentation/reports/figures/results_ptct.png\")"
   ]
  },
  {
   "cell_type": "code",
   "execution_count": 19,
   "metadata": {},
   "outputs": [
    {
     "data": {
      "text/plain": [
       "Unnamed: 0     49.500000\n",
       "accuracy        0.775364\n",
       "n_test         10.600000\n",
       "n_train        95.400000\n",
       "npv             0.775206\n",
       "precision       0.808964\n",
       "roc_auc         0.832405\n",
       "sensitivity     0.848333\n",
       "specificity     0.659000\n",
       "split          49.500000\n",
       "dtype: float64"
      ]
     },
     "execution_count": 19,
     "metadata": {},
     "output_type": "execute_result"
    }
   ],
   "source": [
    "df[(df[\"modality\"]==\"PET/CT\")&(df[\"voi\"]==\"GTV_L\")].mean()"
   ]
  },
  {
   "cell_type": "code",
   "execution_count": 20,
   "metadata": {},
   "outputs": [
    {
     "data": {
      "image/png": "[encoded data removed]",
      "text/plain": [
       "<Figure size 493.85x360 with 1 Axes>"
      ]
     },
     "metadata": {},
     "output_type": "display_data"
    }
   ],
   "source": [
    "sns.set(rc={\"figure.figsize\":(8, 9)}) #width=8, height=4\n",
    "ax = sns.catplot(x=\"modality\", y=\"roc_auc\", hue=\"voi\", data=df_tot, kind=\"box\", palette=\"magma\", width=1.0)"
   ]
  },
  {
   "cell_type": "code",
   "execution_count": 21,
   "metadata": {},
   "outputs": [
    {
     "data": {
      "text/plain": [
       "Unnamed: 0     249.500000\n",
       "accuracy         0.503091\n",
       "n_test          10.600000\n",
       "n_train         95.400000\n",
       "npv              0.303286\n",
       "precision        0.581054\n",
       "roc_auc          0.449869\n",
       "sensitivity      0.655714\n",
       "specificity      0.263500\n",
       "split           49.500000\n",
       "dtype: float64"
      ]
     },
     "execution_count": 21,
     "metadata": {},
     "output_type": "execute_result"
    }
   ],
   "source": [
    "df_tot[df_tot[\"voi\"]==\"random_features\"].mean()"
   ]
  },
  {
   "cell_type": "code",
   "execution_count": 22,
   "metadata": {},
   "outputs": [
    {
     "data": {
      "text/plain": [
       "array(['CT', 'PT', 'PET/CT', 'random', 'SUVmax'], dtype=object)"
      ]
     },
     "execution_count": 22,
     "metadata": {},
     "output_type": "execute_result"
    }
   ],
   "source": [
    "df_tot[\"modality\"].unique()"
   ]
  },
  {
   "cell_type": "code",
   "execution_count": 23,
   "metadata": {},
   "outputs": [
    {
     "name": "stderr",
     "output_type": "stream",
     "text": [
      "/home/valentin/python_wkspce/plc_segmentation/env/lib/python3.6/site-packages/ipykernel_launcher.py:7: SettingWithCopyWarning: \n",
      "A value is trying to be set on a copy of a slice from a DataFrame.\n",
      "Try using .loc[row_indexer,col_indexer] = value instead\n",
      "\n",
      "See the caveats in the documentation: https://pandas.pydata.org/pandas-docs/stable/user_guide/indexing.html#returning-a-view-versus-a-copy\n",
      "  import sys\n"
     ]
    }
   ],
   "source": [
    "df_catplot = df_tot[df_tot[\"modality\"].isin([\"PET/CT\"])]\n",
    "translate_voi = {\n",
    "    \"GTV_L\": \"VOI L\",\n",
    "    \"GTV_T\": \"VOI T\",\n",
    "    \"GTV_N\": \"VOI N\",\n",
    "}\n",
    "df_catplot[\"voi\"] = df_catplot[\"voi\"].map(lambda x: translate_voi[x])"
   ]
  },
  {
   "cell_type": "code",
   "execution_count": 24,
   "metadata": {},
   "outputs": [],
   "source": [
    "from matplotlib.markers import TICKDOWN\n",
    "\n",
    "\n",
    "def significance_bar(start,\n",
    "                     end,\n",
    "                     height,\n",
    "                     displaystring,\n",
    "                     linewidth=1.2,\n",
    "                     markersize=8,\n",
    "                     boxpad=0.3,\n",
    "                     fontsize=15,\n",
    "                     color='k'):\n",
    "    # draw a line with downticks at the ends\n",
    "    plt.plot(\n",
    "        [start, end],\n",
    "        [height] * 2,\n",
    "        '-',\n",
    "        color=color,\n",
    "        lw=linewidth,\n",
    "        marker=TICKDOWN,\n",
    "        markeredgewidth=linewidth,\n",
    "        markersize=markersize,\n",
    "        clip_on=False,\n",
    "    )\n",
    "    # draw the text with a bounding box covering up the line\n",
    "    plt.text(0.5 * (start + end),\n",
    "             height,\n",
    "             displaystring,\n",
    "             ha='center',\n",
    "             va='center',\n",
    "             bbox=dict(facecolor='1.',\n",
    "                       edgecolor='none',\n",
    "                       boxstyle='Square,pad=' + str(boxpad)),\n",
    "             size=fontsize)\n"
   ]
  },
  {
   "cell_type": "code",
   "execution_count": 25,
   "metadata": {},
   "outputs": [
    {
     "data": {
      "image/png": "[encoded data removed]",
      "text/plain": [
       "<Figure size 432x288 with 1 Axes>"
      ]
     },
     "metadata": {},
     "output_type": "display_data"
    }
   ],
   "source": [
    "sns.set_style(\"whitegrid\")\n",
    "g = sns.catplot(x=\"voi\",\n",
    "                y=\"roc_auc\",\n",
    "                data=df_catplot,\n",
    "                kind=\"box\",\n",
    "                fliersize=0.0,\n",
    "                width=0.25,\n",
    "                height=4,\n",
    "                aspect=1.5)\n",
    "g = sns.stripplot(x=\"voi\", y=\"roc_auc\", data=df_catplot, color=\"0.3\")\n",
    "g.set(ylabel='ROC AUC', xlabel='')\n",
    "g.set_yticks(ticks=[0.1*k for k in range(11)])\n",
    "g.set(ylim=(0.0, 1.05))\n",
    "# plt.plot([1,2],[1.1,1.1], '|-k')\n",
    "significance_bar(0,\n",
    "                 1,\n",
    "                 1.1,\n",
    "                 \"*\",\n",
    "                 linewidth=1.2,\n",
    "                 markersize=8,\n",
    "                 boxpad=0.3,\n",
    "                 fontsize=15,\n",
    "                 color='k')\n",
    "significance_bar(0,\n",
    "                 2,\n",
    "                 1.2,\n",
    "                 \"**\",\n",
    "                 linewidth=1.2,\n",
    "                 markersize=8,\n",
    "                 boxpad=0.3,\n",
    "                 fontsize=15,\n",
    "                 color='k')\n",
    "plt.savefig(\"petct_auc.png\", dpi=200, bbox_inches=\"tight\")"
   ]
  },
  {
   "cell_type": "code",
   "execution_count": 26,
   "metadata": {},
   "outputs": [
    {
     "name": "stderr",
     "output_type": "stream",
     "text": [
      "/home/valentin/python_wkspce/plc_segmentation/env/lib/python3.6/site-packages/ipykernel_launcher.py:8: SettingWithCopyWarning: \n",
      "A value is trying to be set on a copy of a slice from a DataFrame.\n",
      "Try using .loc[row_indexer,col_indexer] = value instead\n",
      "\n",
      "See the caveats in the documentation: https://pandas.pydata.org/pandas-docs/stable/user_guide/indexing.html#returning-a-view-versus-a-copy\n",
      "  \n"
     ]
    }
   ],
   "source": [
    "df_catplot = df_tot[df_tot[\"voi\"]==\"GTV_L\"]\n",
    "translate_modality = {\n",
    "    \"PT\": \"PET\",\n",
    "    \"PET/CT\": \"PET/CT\",\n",
    "    \"CT\": \"CT\",\n",
    "    \"SUVmax\": \"SUV$_{max}$\",\n",
    "}\n",
    "df_catplot[\"modality\"] = df_catplot[\"modality\"].map(lambda x: translate_modality[x])"
   ]
  },
  {
   "cell_type": "code",
   "execution_count": 27,
   "metadata": {},
   "outputs": [
    {
     "data": {
      "image/png": "[encoded data removed]",
      "text/plain": [
       "<Figure size 432x288 with 1 Axes>"
      ]
     },
     "metadata": {},
     "output_type": "display_data"
    }
   ],
   "source": [
    "sns.set_style(\"whitegrid\")\n",
    "g = sns.catplot(x=\"modality\",\n",
    "                y=\"roc_auc\",\n",
    "                data=df_catplot,\n",
    "                kind=\"box\",\n",
    "                fliersize=0.0,\n",
    "                width=0.25,\n",
    "                height=4,\n",
    "                aspect=1.5)\n",
    "g = sns.stripplot(x=\"modality\", y=\"roc_auc\", data=df_catplot, color=\"0.3\", size=3.5)\n",
    "g.set(ylabel='ROC AUC', xlabel='')\n",
    "g.set_yticks(ticks=[0.1*k for k in range(11)])\n",
    "g.set(ylim=(0.0, 1.05))\n",
    "# plt.plot([1,2],[1.1,1.1], '|-k')\n",
    "\n",
    "plt.savefig(\"gtvl_auc.png\", dpi=200, bbox_inches=\"tight\")"
   ]
  },
  {
   "cell_type": "code",
   "execution_count": 40,
   "metadata": {},
   "outputs": [
    {
     "data": {
      "text/plain": [
       "Index(['Unnamed: 0', 'accuracy', 'n_test', 'n_train', 'npv', 'precision',\n",
       "       'roc_auc', 'sensitivity', 'specificity', 'split', 'modality', 'voi',\n",
       "       'strategy'],\n",
       "      dtype='object')"
      ]
     },
     "execution_count": 40,
     "metadata": {},
     "output_type": "execute_result"
    }
   ],
   "source": [
    "df_tot.columns"
   ]
  },
  {
   "cell_type": "code",
   "execution_count": 47,
   "metadata": {},
   "outputs": [],
   "source": [
    "s1 = df_tot.loc[(df_tot[\"modality\"]==\"PET/CT\") & (df_tot[\"voi\"]==\"GTV_L\"), \"roc_auc\"].values\n",
    "s2 = df_tot.loc[(df_tot[\"modality\"]==\"SUVmax\") & (df_tot[\"voi\"]==\"GTV_L\"), \"roc_auc\"].values"
   ]
  },
  {
   "cell_type": "code",
   "execution_count": 48,
   "metadata": {},
   "outputs": [],
   "source": [
    "n_train = df_tot.loc[(df_tot[\"modality\"]==\"PET/CT\") & (df_tot[\"voi\"]==\"GTV_L\"), \"n_train\"].mean()\n",
    "n_test = df_tot.loc[(df_tot[\"modality\"]==\"PET/CT\") & (df_tot[\"voi\"]==\"GTV_L\"), \"n_test\"].mean()"
   ]
  },
  {
   "cell_type": "code",
   "execution_count": 49,
   "metadata": {},
   "outputs": [
    {
     "name": "stdout",
     "output_type": "stream",
     "text": [
      "{'t_stat': 0.7755348426381398, 'p_value': 0.2199361613331144, 'proba M1 > M2': 0.7042106109265848, 'proba M1 == M2': 0.13897008180135126, 'proba M1 < M2': 0.15681930727206397}\n"
     ]
    }
   ],
   "source": [
    "s = compare_score(s1, s2, n_train, n_test)\n",
    "print(s)"
   ]
  },
  {
   "cell_type": "code",
   "execution_count": 34,
   "metadata": {},
   "outputs": [
    {
     "data": {
      "text/plain": [
       "(0.7469924388115385, 0.9178170849979852)"
      ]
     },
     "execution_count": 34,
     "metadata": {},
     "output_type": "execute_result"
    }
   ],
   "source": [
    "corrected_ci(s1, n_train, n_test)\n"
   ]
  },
  {
   "cell_type": "code",
   "execution_count": null,
   "metadata": {},
   "outputs": [],
   "source": [
    "df.columns"
   ]
  },
  {
   "cell_type": "code",
   "execution_count": null,
   "metadata": {},
   "outputs": [],
   "source": [
    "def extract_score(modality, voi, df, score):\n",
    "    return df.loc[(df[\"modality\"] == modality) & (df_tot[\"voi\"] == voi),\n",
    "                  score].values\n",
    "\n",
    "\n",
    "scores = [\n",
    "    'roc_auc',\n",
    "    'accuracy',\n",
    "    'sensitivity',\n",
    "    'specificity',\n",
    "    'precision',\n",
    "    'npv',\n",
    "]\n",
    "\n",
    "\n",
    "def print_results(modality, voi, df):\n",
    "    for score in scores:\n",
    "        s = extract_score(modality, voi, df, score)\n",
    "        ci = corrected_ci(s, n_train, n_test)\n",
    "        print(f\"{score} : {np.mean(s):.4f} ({ci[0]:.4f} - {ci[1]:.4f})\", )\n"
   ]
  },
  {
   "cell_type": "code",
   "execution_count": null,
   "metadata": {},
   "outputs": [],
   "source": [
    "print_results(\"SUVmax\", \"GTV_N\", df_tot)"
   ]
  },
  {
   "cell_type": "code",
   "execution_count": null,
   "metadata": {},
   "outputs": [],
   "source": [
    "# s2 = df_dummy.loc[df_dummy[\"strategy\"]==\"center\", \"roc_auc\"].values\n",
    "# s2 = df_dummy.loc[df_dummy[\"strategy\"]==\"random_features\", \"roc_auc\"].values"
   ]
  },
  {
   "cell_type": "code",
   "execution_count": null,
   "metadata": {},
   "outputs": [],
   "source": [
    "np.mean(s2)"
   ]
  },
  {
   "cell_type": "code",
   "execution_count": null,
   "metadata": {},
   "outputs": [],
   "source": [
    "print(s)"
   ]
  },
  {
   "cell_type": "code",
   "execution_count": null,
   "metadata": {},
   "outputs": [],
   "source": [
    "s[\"p_value\"] + s[\"proba M1 > M2\"]"
   ]
  },
  {
   "cell_type": "code",
   "execution_count": null,
   "metadata": {},
   "outputs": [],
   "source": []
  }
 ],
 "metadata": {
  "interpreter": {
   "hash": "26794336849f69f1a455c7b9076cea9e2673f8b3db6968d6e62389984b0c1cbc"
  },
  "kernelspec": {
   "display_name": "Python 3.6.9 64-bit ('env': virtualenv)",
   "language": "python",
   "name": "python3"
  },
  "language_info": {
   "codemirror_mode": {
    "name": "ipython",
    "version": 3
   },
   "file_extension": ".py",
   "mimetype": "text/x-python",
   "name": "python",
   "nbconvert_exporter": "python",
   "pygments_lexer": "ipython3",
   "version": "3.6.9"
  },
  "orig_nbformat": 4
 },
 "nbformat": 4,
 "nbformat_minor": 2
}
