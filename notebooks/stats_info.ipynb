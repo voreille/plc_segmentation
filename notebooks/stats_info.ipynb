{
 "cells": [
  {
   "cell_type": "code",
   "execution_count": 15,
   "metadata": {},
   "outputs": [],
   "source": [
    "import pandas as pd\n",
    "import numpy as np"
   ]
  },
  {
   "cell_type": "code",
   "execution_count": 2,
   "metadata": {},
   "outputs": [],
   "source": [
    "df = pd.read_csv(\"/home/valentin/python_wkspce/plc_segmentation/data/dicom_info.csv\")"
   ]
  },
  {
   "cell_type": "code",
   "execution_count": 3,
   "metadata": {},
   "outputs": [
    {
     "data": {
      "text/plain": [
       "Index(['Unnamed: 0', 'image_type', 'instance_number', 'institution_name',\n",
       "       'manufacturer', 'manufacturer_model_name', 'modality', 'patient_id',\n",
       "       'patient_name', 'pixel_spacing', 'series_date', 'series_datetime',\n",
       "       'series_instance_uid', 'series_number', 'series_time',\n",
       "       'slice_thickness', 'spacing_between_slices', 'study_date',\n",
       "       'study_instance_uid'],\n",
       "      dtype='object')"
      ]
     },
     "execution_count": 3,
     "metadata": {},
     "output_type": "execute_result"
    }
   ],
   "source": [
    "df.columns"
   ]
  },
  {
   "cell_type": "code",
   "execution_count": 9,
   "metadata": {},
   "outputs": [],
   "source": [
    "df = df[df[\"modality\"]==\"PT\"]\n",
    "df = df.set_index(\"patient_id\").drop(\"Unnamed: 0\", axis=1)"
   ]
  },
  {
   "cell_type": "code",
   "execution_count": 11,
   "metadata": {},
   "outputs": [],
   "source": [
    "patient_list = list(df.index)"
   ]
  },
  {
   "cell_type": "code",
   "execution_count": 12,
   "metadata": {},
   "outputs": [],
   "source": [
    "patient_list.remove(\"PatientLC_63\")  # Just one lung\n",
    "patient_list.remove(\"PatientLC_71\")  # the same as 69\n",
    "patient_list.remove(\"PatientLC_21\")  # the same as 20 "
   ]
  },
  {
   "cell_type": "code",
   "execution_count": 13,
   "metadata": {},
   "outputs": [],
   "source": [
    "df = df.loc[patient_list,:]"
   ]
  },
  {
   "cell_type": "code",
   "execution_count": 14,
   "metadata": {},
   "outputs": [
    {
     "data": {
      "text/plain": [
       "(106, 17)"
      ]
     },
     "execution_count": 14,
     "metadata": {},
     "output_type": "execute_result"
    }
   ],
   "source": [
    "df.shape"
   ]
  },
  {
   "cell_type": "code",
   "execution_count": 19,
   "metadata": {},
   "outputs": [
    {
     "data": {
      "text/plain": [
       "\"['PET CT CHUV' 'PET CT CHUV' 'PET CT CHUV' 'PET CT CHUV' 'PET CT CHUV'\\n 'PET CT CHUV' 'PET CT CHUV' 'PET CT CHUV' 'PET CT CHUV' 'PET CT CHUV'\\n 'PET CT CHUV' 'PET CT CHUV' 'PET CT CHUV' 'PET CT CHUV' 'PET CT CHUV'\\n 'PTCTCHUV' 'PTCTCHUV' 'PTCTCHUV' 'PET CT CHUV' 'PET CT CHUV'\\n 'PET CT CHUV' 'PET CT CHUV' 'PET CT CHUV' 'PET CT CHUV' 'PET CT CHUV'\\n 'PET CT CHUV' 'PET CT CHUV' 'PET CT CHUV' 'PET CT CHUV' 'PET CT CHUV'\\n 'CLINIQUE DE LA SOURCE' 'CLINIQUE DE LA SOURCE' 'PET CT CHUV'\\n 'PET CT CHUV' 'PET CT CHUV' 'PET CT CHUV' 'Clinique LA SOURCE, Lausanne'\\n 'PET CT CHUV' 'Clinique LA SOURCE, Lausanne' 'PET CT CHUV' 'PET CT CHUV'\\n 'CLINIQUE DE GENOLIER' 'CLINIQUE DE LA SOURCE' 'PET CT CHUV'\\n 'PET CT CHUV' 'PET CT CHUV' 'PET CT CHUV' 'PET CT CHUV' 'PET CT CHUV'\\n 'PET CT CHUV' 'PET CT CHUV' 'PET CT CHUV' 'PET/CT Camion' 'PET/CT Camion'\\n 'Clinique LA SOURCE, Lausanne' 'PET CT CHUV'\\n 'Clinique LA SOURCE, Lausanne' 'PET CT CHUV' 'PET CT CHUV' 'PET CT CHUV'\\n 'PET CT CHUV' 'Clinique LA SOURCE, Lausanne' 'PET CT CHUV'\\n 'Clinique LA SOURCE, Lausanne' 'Clinique de Genolier' 'PET CT CHUV'\\n 'Clinique LA SOURCE, Lausanne' 'Clinique LA SOURCE, Lausanne'\\n 'PET CT CHUV' 'PET CT CHUV' 'PET CT CHUV' 'PET CT CHUV' 'PET CT CHUV'\\n 'PET CT CHUV' 'PET CT CHUV' 'San Giovanni' 'PET CT CHUV'\\n 'Clinique de Genolier' 'Clinique de Genolier' nan 'PET CT CHUV'\\n 'PET/CT Camion' nan 'Hopital de Sion' 'PET CT CHUV' 'PET CT CHUV' nan\\n 'PET CT CHUV' 'PET CT CHUV' 'CLINIQUE DE GENOLIER' 'PET CT CHUV'\\n 'CLINIQUE DE LA SOURCE' 'PET CT CHUV' 'CLINIQUE DE GENOLIER'\\n 'PET CT CHUV' 'PET CT CHUV' 'Clinique LA SOURCE, Lausanne'\\n 'PET/CT Camion' 'MEDECINE NUCLEAIRE' 'PET CT CHUV' 'PET CT CHUV'\\n 'CLINIQUE DE GENOLIER' nan 'CLINIQUE DE GENOLIER'\\n 'Clinique LA SOURCE, Lausanne' 'PET CT CHUV']\""
      ]
     },
     "execution_count": 19,
     "metadata": {},
     "output_type": "execute_result"
    }
   ],
   "source": [
    "str(df[\"institution_name\"].values)"
   ]
  },
  {
   "cell_type": "code",
   "execution_count": 20,
   "metadata": {},
   "outputs": [
    {
     "data": {
      "text/plain": [
       "'nan'"
      ]
     },
     "execution_count": 20,
     "metadata": {},
     "output_type": "execute_result"
    }
   ],
   "source": [
    "str(np.nan)"
   ]
  },
  {
   "cell_type": "code",
   "execution_count": 28,
   "metadata": {},
   "outputs": [],
   "source": [
    "df[\"unique_manufacturer\"] = df[\"institution_name\"].map(str) + \", \" + df[\"manufacturer\"] + \", \" + df[\"manufacturer_model_name\"] "
   ]
  },
  {
   "cell_type": "code",
   "execution_count": 29,
   "metadata": {},
   "outputs": [
    {
     "data": {
      "text/plain": [
       "patient_id\n",
       "Case_13            PET CT CHUV, GE MEDICAL SYSTEMS, Discovery 690\n",
       "Case_15            PET CT CHUV, GE MEDICAL SYSTEMS, Discovery 690\n",
       "Case_7             PET CT CHUV, GE MEDICAL SYSTEMS, Discovery 690\n",
       "Case_16            PET CT CHUV, GE MEDICAL SYSTEMS, Discovery 690\n",
       "Case_10            PET CT CHUV, GE MEDICAL SYSTEMS, Discovery 690\n",
       "                                      ...                        \n",
       "PatientLC_92    CLINIQUE DE GENOLIER, Philips Medical Systems,...\n",
       "PatientLC_93        nan, Philips Medical Systems, Allegro Body(C)\n",
       "PatientLC_94    CLINIQUE DE GENOLIER, Philips Medical Systems,...\n",
       "PatientLC_1     Clinique LA SOURCE, Lausanne, Philips Medical ...\n",
       "PatientLC_2        PET CT CHUV, GE MEDICAL SYSTEMS, Discovery 690\n",
       "Name: unique_manufacturer, Length: 106, dtype: object"
      ]
     },
     "execution_count": 29,
     "metadata": {},
     "output_type": "execute_result"
    }
   ],
   "source": [
    "df[\"unique_manufacturer\"]"
   ]
  },
  {
   "cell_type": "code",
   "execution_count": 30,
   "metadata": {},
   "outputs": [],
   "source": [
    "df = df.sort_values(by=\"unique_manufacturer\")"
   ]
  },
  {
   "cell_type": "code",
   "execution_count": 32,
   "metadata": {},
   "outputs": [],
   "source": [
    "df.to_csv(\"../data/pt_manu.csv\")"
   ]
  },
  {
   "cell_type": "code",
   "execution_count": null,
   "metadata": {},
   "outputs": [],
   "source": []
  }
 ],
 "metadata": {
  "interpreter": {
   "hash": "26794336849f69f1a455c7b9076cea9e2673f8b3db6968d6e62389984b0c1cbc"
  },
  "kernelspec": {
   "display_name": "Python 3.6.9 64-bit ('env': virtualenv)",
   "language": "python",
   "name": "python3"
  },
  "language_info": {
   "codemirror_mode": {
    "name": "ipython",
    "version": 3
   },
   "file_extension": ".py",
   "mimetype": "text/x-python",
   "name": "python",
   "nbconvert_exporter": "python",
   "pygments_lexer": "ipython3",
   "version": "3.6.9"
  },
  "orig_nbformat": 4
 },
 "nbformat": 4,
 "nbformat_minor": 2
}
