{
 "cells": [
  {
   "cell_type": "code",
   "execution_count": 20,
   "metadata": {},
   "outputs": [],
   "source": [
    "from pathlib import Path\n",
    "\n",
    "import pandas as pd\n",
    "from tqdm import tqdm\n",
    "import numpy as np\n",
    "import SimpleITK as sitk"
   ]
  },
  {
   "cell_type": "code",
   "execution_count": 3,
   "metadata": {},
   "outputs": [],
   "source": [
    "pt_files = [f for f in Path(\"../data/interim/nii_raw\").rglob(\"*PT.nii.gz\")]"
   ]
  },
  {
   "cell_type": "code",
   "execution_count": 16,
   "metadata": {},
   "outputs": [],
   "source": [
    "gtvl_files = [f for f in Path(\"../data/interim/nii_raw\").rglob(\"*GTV_L*\")]\n",
    "gtvt_files = [f for f in Path(\"../data/interim/nii_raw\").rglob(\"*GTV_T*\")]"
   ]
  },
  {
   "cell_type": "code",
   "execution_count": 11,
   "metadata": {},
   "outputs": [],
   "source": [
    "resampler = sitk.ResampleImageFilter()\n",
    "resampler.SetInterpolator(sitk.sitkNearestNeighbor)\n"
   ]
  },
  {
   "cell_type": "code",
   "execution_count": 29,
   "metadata": {},
   "outputs": [
    {
     "name": "stderr",
     "output_type": "stream",
     "text": [
      "100%|██████████| 109/109 [06:24<00:00,  3.53s/it]\n"
     ]
    }
   ],
   "source": [
    "df = pd.DataFrame()\n",
    "for f in tqdm(pt_files):\n",
    "    patient_id = f.name.split(\"__\")[0]\n",
    "    pt = sitk.ReadImage(str(f))\n",
    "    gtvl_file = [ff for ff in gtvl_files if patient_id + \"__\" in ff.name][0]\n",
    "    gtvt_file = [ff for ff in gtvt_files if patient_id + \"__\" in ff.name][0]\n",
    "    gtvl = sitk.ReadImage(str(gtvl_file))\n",
    "    gtvt = sitk.ReadImage(str(gtvt_file))\n",
    "    resampler.SetReferenceImage(gtvt)\n",
    "    pt = resampler.Execute(pt)\n",
    "    gtvl = resampler.Execute(gtvl)\n",
    "    gtvl = sitk.GetArrayFromImage(gtvl)\n",
    "    gtvt = sitk.GetArrayFromImage(gtvt)\n",
    "    pt = sitk.GetArrayFromImage(pt)\n",
    "    try:\n",
    "        suvmax_gtvl = np.max(pt[gtvl != 0])\n",
    "        suvmax_gtvt = np.max(pt[gtvt != 0])\n",
    "    except Exception as e:\n",
    "        print(f\"Error with patient {patient_id}\")\n",
    "        continue\n",
    "\n",
    "    df = df.append(\n",
    "        {\n",
    "            \"patient_id\": patient_id,\n",
    "            \"suv_max_gtvl\": suvmax_gtvl,\n",
    "            \"suv_max_gtvt\": suvmax_gtvt,\n",
    "        },\n",
    "        ignore_index=True)\n"
   ]
  },
  {
   "cell_type": "code",
   "execution_count": 28,
   "metadata": {},
   "outputs": [],
   "source": [
    "df.sort_values(by=\"patient_id\").to_csv(\"manual_suvmax.csv\")"
   ]
  },
  {
   "cell_type": "code",
   "execution_count": null,
   "metadata": {},
   "outputs": [],
   "source": []
  }
 ],
 "metadata": {
  "interpreter": {
   "hash": "26794336849f69f1a455c7b9076cea9e2673f8b3db6968d6e62389984b0c1cbc"
  },
  "kernelspec": {
   "display_name": "Python 3.6.9 64-bit ('env': virtualenv)",
   "language": "python",
   "name": "python3"
  },
  "language_info": {
   "codemirror_mode": {
    "name": "ipython",
    "version": 3
   },
   "file_extension": ".py",
   "mimetype": "text/x-python",
   "name": "python",
   "nbconvert_exporter": "python",
   "pygments_lexer": "ipython3",
   "version": "3.6.9"
  },
  "orig_nbformat": 4
 },
 "nbformat": 4,
 "nbformat_minor": 2
}
